{
 "cells": [
  {
   "cell_type": "code",
   "execution_count": 1,
   "id": "016d6879",
   "metadata": {},
   "outputs": [],
   "source": [
    "import pandas as pd\n",
    "import numpy as np\n",
    "import matplotlib.pyplot as plt\n",
    "import seaborn as sns"
   ]
  },
  {
   "cell_type": "code",
   "execution_count": 4,
   "id": "70a47dfd",
   "metadata": {},
   "outputs": [
    {
     "data": {
      "text/plain": [
       "(89392, 12)"
      ]
     },
     "execution_count": 4,
     "metadata": {},
     "output_type": "execute_result"
    }
   ],
   "source": [
    "df = pd.read_csv('train_BRCpofr.csv')\n",
    "df.shape"
   ]
  },
  {
   "cell_type": "code",
   "execution_count": 3,
   "id": "df7cdbc2",
   "metadata": {},
   "outputs": [
    {
     "data": {
      "text/plain": [
       "(59595, 11)"
      ]
     },
     "execution_count": 3,
     "metadata": {},
     "output_type": "execute_result"
    }
   ],
   "source": [
    "test = pd.read_csv('test_koRSKBP.csv')\n",
    "test.shape"
   ]
  },
  {
   "cell_type": "code",
   "execution_count": 395,
   "id": "833c7091",
   "metadata": {},
   "outputs": [
    {
     "data": {
      "text/html": [
       "<div>\n",
       "<style scoped>\n",
       "    .dataframe tbody tr th:only-of-type {\n",
       "        vertical-align: middle;\n",
       "    }\n",
       "\n",
       "    .dataframe tbody tr th {\n",
       "        vertical-align: top;\n",
       "    }\n",
       "\n",
       "    .dataframe thead th {\n",
       "        text-align: right;\n",
       "    }\n",
       "</style>\n",
       "<table border=\"1\" class=\"dataframe\">\n",
       "  <thead>\n",
       "    <tr style=\"text-align: right;\">\n",
       "      <th></th>\n",
       "      <th>id</th>\n",
       "      <th>gender</th>\n",
       "      <th>area</th>\n",
       "      <th>qualification</th>\n",
       "      <th>income</th>\n",
       "      <th>marital_status</th>\n",
       "      <th>vintage</th>\n",
       "      <th>claim_amount</th>\n",
       "      <th>num_policies</th>\n",
       "      <th>policy</th>\n",
       "      <th>type_of_policy</th>\n",
       "      <th>cltv</th>\n",
       "    </tr>\n",
       "  </thead>\n",
       "  <tbody>\n",
       "    <tr>\n",
       "      <th>0</th>\n",
       "      <td>1</td>\n",
       "      <td>Male</td>\n",
       "      <td>Urban</td>\n",
       "      <td>Bachelor</td>\n",
       "      <td>5L-10L</td>\n",
       "      <td>1</td>\n",
       "      <td>5</td>\n",
       "      <td>5790</td>\n",
       "      <td>More than 1</td>\n",
       "      <td>A</td>\n",
       "      <td>Platinum</td>\n",
       "      <td>64308</td>\n",
       "    </tr>\n",
       "    <tr>\n",
       "      <th>1</th>\n",
       "      <td>2</td>\n",
       "      <td>Male</td>\n",
       "      <td>Rural</td>\n",
       "      <td>High School</td>\n",
       "      <td>5L-10L</td>\n",
       "      <td>0</td>\n",
       "      <td>8</td>\n",
       "      <td>5080</td>\n",
       "      <td>More than 1</td>\n",
       "      <td>A</td>\n",
       "      <td>Platinum</td>\n",
       "      <td>515400</td>\n",
       "    </tr>\n",
       "    <tr>\n",
       "      <th>2</th>\n",
       "      <td>3</td>\n",
       "      <td>Male</td>\n",
       "      <td>Urban</td>\n",
       "      <td>Bachelor</td>\n",
       "      <td>5L-10L</td>\n",
       "      <td>1</td>\n",
       "      <td>8</td>\n",
       "      <td>2599</td>\n",
       "      <td>More than 1</td>\n",
       "      <td>A</td>\n",
       "      <td>Platinum</td>\n",
       "      <td>64212</td>\n",
       "    </tr>\n",
       "    <tr>\n",
       "      <th>3</th>\n",
       "      <td>4</td>\n",
       "      <td>Female</td>\n",
       "      <td>Rural</td>\n",
       "      <td>High School</td>\n",
       "      <td>5L-10L</td>\n",
       "      <td>0</td>\n",
       "      <td>7</td>\n",
       "      <td>0</td>\n",
       "      <td>More than 1</td>\n",
       "      <td>A</td>\n",
       "      <td>Platinum</td>\n",
       "      <td>97920</td>\n",
       "    </tr>\n",
       "    <tr>\n",
       "      <th>4</th>\n",
       "      <td>5</td>\n",
       "      <td>Male</td>\n",
       "      <td>Urban</td>\n",
       "      <td>High School</td>\n",
       "      <td>More than 10L</td>\n",
       "      <td>1</td>\n",
       "      <td>6</td>\n",
       "      <td>3508</td>\n",
       "      <td>More than 1</td>\n",
       "      <td>A</td>\n",
       "      <td>Gold</td>\n",
       "      <td>59736</td>\n",
       "    </tr>\n",
       "  </tbody>\n",
       "</table>\n",
       "</div>"
      ],
      "text/plain": [
       "   id  gender   area qualification         income  marital_status  vintage  \\\n",
       "0   1    Male  Urban      Bachelor         5L-10L               1        5   \n",
       "1   2    Male  Rural   High School         5L-10L               0        8   \n",
       "2   3    Male  Urban      Bachelor         5L-10L               1        8   \n",
       "3   4  Female  Rural   High School         5L-10L               0        7   \n",
       "4   5    Male  Urban   High School  More than 10L               1        6   \n",
       "\n",
       "   claim_amount num_policies policy type_of_policy    cltv  \n",
       "0          5790  More than 1      A       Platinum   64308  \n",
       "1          5080  More than 1      A       Platinum  515400  \n",
       "2          2599  More than 1      A       Platinum   64212  \n",
       "3             0  More than 1      A       Platinum   97920  \n",
       "4          3508  More than 1      A           Gold   59736  "
      ]
     },
     "execution_count": 395,
     "metadata": {},
     "output_type": "execute_result"
    }
   ],
   "source": [
    "df.head()"
   ]
  },
  {
   "cell_type": "code",
   "execution_count": 396,
   "id": "c0a39b9d",
   "metadata": {},
   "outputs": [
    {
     "data": {
      "text/plain": [
       "array(['Bachelor', 'High School', 'Others'], dtype=object)"
      ]
     },
     "execution_count": 396,
     "metadata": {},
     "output_type": "execute_result"
    }
   ],
   "source": [
    "df['qualification'].unique()"
   ]
  },
  {
   "cell_type": "code",
   "execution_count": 397,
   "id": "8b0a72bf",
   "metadata": {},
   "outputs": [
    {
     "data": {
      "text/plain": [
       "(89392, 12)"
      ]
     },
     "execution_count": 397,
     "metadata": {},
     "output_type": "execute_result"
    }
   ],
   "source": [
    "df.shape"
   ]
  },
  {
   "cell_type": "code",
   "execution_count": 398,
   "id": "e7ee12ea",
   "metadata": {},
   "outputs": [
    {
     "data": {
      "image/png": "[encoded data removed]",
      "text/plain": [
       "<Figure size 1080x432 with 1 Axes>"
      ]
     },
     "metadata": {
      "needs_background": "light"
     },
     "output_type": "display_data"
    }
   ],
   "source": [
    "plt.figure(figsize=(15, 6))\n",
    "sns.histplot(data=df, x='cltv')\n",
    "plt.show()"
   ]
  },
  {
   "cell_type": "code",
   "execution_count": 399,
   "id": "15bd7042",
   "metadata": {},
   "outputs": [
    {
     "data": {
      "text/plain": [
       "id                0\n",
       "gender            0\n",
       "area              0\n",
       "qualification     0\n",
       "income            0\n",
       "marital_status    0\n",
       "vintage           0\n",
       "claim_amount      0\n",
       "num_policies      0\n",
       "policy            0\n",
       "type_of_policy    0\n",
       "cltv              0\n",
       "dtype: int64"
      ]
     },
     "execution_count": 399,
     "metadata": {},
     "output_type": "execute_result"
    }
   ],
   "source": [
    "df.isnull().sum()"
   ]
  },
  {
   "cell_type": "code",
   "execution_count": 400,
   "id": "d4dc12c9",
   "metadata": {},
   "outputs": [
    {
     "data": {
      "text/html": [
       "<div>\n",
       "<style scoped>\n",
       "    .dataframe tbody tr th:only-of-type {\n",
       "        vertical-align: middle;\n",
       "    }\n",
       "\n",
       "    .dataframe tbody tr th {\n",
       "        vertical-align: top;\n",
       "    }\n",
       "\n",
       "    .dataframe thead th {\n",
       "        text-align: right;\n",
       "    }\n",
       "</style>\n",
       "<table border=\"1\" class=\"dataframe\">\n",
       "  <thead>\n",
       "    <tr style=\"text-align: right;\">\n",
       "      <th></th>\n",
       "      <th>id</th>\n",
       "      <th>marital_status</th>\n",
       "      <th>vintage</th>\n",
       "      <th>claim_amount</th>\n",
       "      <th>cltv</th>\n",
       "    </tr>\n",
       "  </thead>\n",
       "  <tbody>\n",
       "    <tr>\n",
       "      <th>count</th>\n",
       "      <td>89392.000000</td>\n",
       "      <td>89392.000000</td>\n",
       "      <td>89392.000000</td>\n",
       "      <td>89392.000000</td>\n",
       "      <td>89392.000000</td>\n",
       "    </tr>\n",
       "    <tr>\n",
       "      <th>mean</th>\n",
       "      <td>44696.500000</td>\n",
       "      <td>0.575488</td>\n",
       "      <td>4.595669</td>\n",
       "      <td>4351.502416</td>\n",
       "      <td>97952.828978</td>\n",
       "    </tr>\n",
       "    <tr>\n",
       "      <th>std</th>\n",
       "      <td>25805.391969</td>\n",
       "      <td>0.494272</td>\n",
       "      <td>2.290446</td>\n",
       "      <td>3262.359775</td>\n",
       "      <td>90613.814793</td>\n",
       "    </tr>\n",
       "    <tr>\n",
       "      <th>min</th>\n",
       "      <td>1.000000</td>\n",
       "      <td>0.000000</td>\n",
       "      <td>0.000000</td>\n",
       "      <td>0.000000</td>\n",
       "      <td>24828.000000</td>\n",
       "    </tr>\n",
       "    <tr>\n",
       "      <th>25%</th>\n",
       "      <td>22348.750000</td>\n",
       "      <td>0.000000</td>\n",
       "      <td>3.000000</td>\n",
       "      <td>2406.000000</td>\n",
       "      <td>52836.000000</td>\n",
       "    </tr>\n",
       "    <tr>\n",
       "      <th>50%</th>\n",
       "      <td>44696.500000</td>\n",
       "      <td>1.000000</td>\n",
       "      <td>5.000000</td>\n",
       "      <td>4089.000000</td>\n",
       "      <td>66396.000000</td>\n",
       "    </tr>\n",
       "    <tr>\n",
       "      <th>75%</th>\n",
       "      <td>67044.250000</td>\n",
       "      <td>1.000000</td>\n",
       "      <td>6.000000</td>\n",
       "      <td>6094.000000</td>\n",
       "      <td>103440.000000</td>\n",
       "    </tr>\n",
       "    <tr>\n",
       "      <th>max</th>\n",
       "      <td>89392.000000</td>\n",
       "      <td>1.000000</td>\n",
       "      <td>8.000000</td>\n",
       "      <td>31894.000000</td>\n",
       "      <td>724068.000000</td>\n",
       "    </tr>\n",
       "  </tbody>\n",
       "</table>\n",
       "</div>"
      ],
      "text/plain": [
       "                 id  marital_status       vintage  claim_amount           cltv\n",
       "count  89392.000000    89392.000000  89392.000000  89392.000000   89392.000000\n",
       "mean   44696.500000        0.575488      4.595669   4351.502416   97952.828978\n",
       "std    25805.391969        0.494272      2.290446   3262.359775   90613.814793\n",
       "min        1.000000        0.000000      0.000000      0.000000   24828.000000\n",
       "25%    22348.750000        0.000000      3.000000   2406.000000   52836.000000\n",
       "50%    44696.500000        1.000000      5.000000   4089.000000   66396.000000\n",
       "75%    67044.250000        1.000000      6.000000   6094.000000  103440.000000\n",
       "max    89392.000000        1.000000      8.000000  31894.000000  724068.000000"
      ]
     },
     "execution_count": 400,
     "metadata": {},
     "output_type": "execute_result"
    }
   ],
   "source": [
    "df.describe()"
   ]
  },
  {
   "cell_type": "code",
   "execution_count": 401,
   "id": "951c672f",
   "metadata": {},
   "outputs": [
    {
     "name": "stdout",
     "output_type": "stream",
     "text": [
      "<class 'pandas.core.frame.DataFrame'>\n",
      "RangeIndex: 89392 entries, 0 to 89391\n",
      "Data columns (total 12 columns):\n",
      " #   Column          Non-Null Count  Dtype \n",
      "---  ------          --------------  ----- \n",
      " 0   id              89392 non-null  int64 \n",
      " 1   gender          89392 non-null  object\n",
      " 2   area            89392 non-null  object\n",
      " 3   qualification   89392 non-null  object\n",
      " 4   income          89392 non-null  object\n",
      " 5   marital_status  89392 non-null  int64 \n",
      " 6   vintage         89392 non-null  int64 \n",
      " 7   claim_amount    89392 non-null  int64 \n",
      " 8   num_policies    89392 non-null  object\n",
      " 9   policy          89392 non-null  object\n",
      " 10  type_of_policy  89392 non-null  object\n",
      " 11  cltv            89392 non-null  int64 \n",
      "dtypes: int64(5), object(7)\n",
      "memory usage: 8.2+ MB\n"
     ]
    }
   ],
   "source": [
    "df.info()"
   ]
  },
  {
   "cell_type": "code",
   "execution_count": 402,
   "id": "0b1cc8aa",
   "metadata": {},
   "outputs": [
    {
     "data": {
      "text/plain": [
       "89392"
      ]
     },
     "execution_count": 402,
     "metadata": {},
     "output_type": "execute_result"
    }
   ],
   "source": [
    "df['id'].nunique()"
   ]
  },
  {
   "cell_type": "code",
   "execution_count": 403,
   "id": "f0d8dae6",
   "metadata": {
    "scrolled": false
   },
   "outputs": [
    {
     "data": {
      "image/png": "[encoded data removed]",
      "text/plain": [
       "<Figure size 432x288 with 1 Axes>"
      ]
     },
     "metadata": {
      "needs_background": "light"
     },
     "output_type": "display_data"
    },
    {
     "data": {
      "image/png": "[encoded data removed]",
      "text/plain": [
       "<Figure size 432x288 with 1 Axes>"
      ]
     },
     "metadata": {
      "needs_background": "light"
     },
     "output_type": "display_data"
    },
    {
     "data": {
      "image/png": "[encoded data removed]",
      "text/plain": [
       "<Figure size 432x288 with 1 Axes>"
      ]
     },
     "metadata": {
      "needs_background": "light"
     },
     "output_type": "display_data"
    },
    {
     "data": {
      "image/png": "[encoded data removed]",
      "text/plain": [
       "<Figure size 432x288 with 1 Axes>"
      ]
     },
     "metadata": {
      "needs_background": "light"
     },
     "output_type": "display_data"
    },
    {
     "data": {
      "image/png": "[encoded data removed]",
      "text/plain": [
       "<Figure size 432x288 with 1 Axes>"
      ]
     },
     "metadata": {
      "needs_background": "light"
     },
     "output_type": "display_data"
    },
    {
     "data": {
      "image/png": "[encoded data removed]",
      "text/plain": [
       "<Figure size 432x288 with 1 Axes>"
      ]
     },
     "metadata": {
      "needs_background": "light"
     },
     "output_type": "display_data"
    },
    {
     "data": {
      "image/png": "[encoded data removed]",
      "text/plain": [
       "<Figure size 432x288 with 1 Axes>"
      ]
     },
     "metadata": {
      "needs_background": "light"
     },
     "output_type": "display_data"
    }
   ],
   "source": [
    "cat_col = [col for col in df.columns if df[col].dtypes == 'object']\n",
    "for col in cat_col:\n",
    "    fig, ax = plt.subplots()\n",
    "    sns.countplot(data=df, x=col, ax=ax)\n",
    "    plt.show()"
   ]
  },
  {
   "cell_type": "code",
   "execution_count": 404,
   "id": "b5f15bc9",
   "metadata": {},
   "outputs": [
    {
     "data": {
      "text/plain": [
       "Male      50497\n",
       "Female    38895\n",
       "Name: gender, dtype: int64"
      ]
     },
     "execution_count": 404,
     "metadata": {},
     "output_type": "execute_result"
    }
   ],
   "source": [
    "df['gender'].value_counts()"
   ]
  },
  {
   "cell_type": "code",
   "execution_count": 405,
   "id": "59c4931d",
   "metadata": {},
   "outputs": [
    {
     "data": {
      "text/plain": [
       "Urban    62455\n",
       "Rural    26937\n",
       "Name: area, dtype: int64"
      ]
     },
     "execution_count": 405,
     "metadata": {},
     "output_type": "execute_result"
    }
   ],
   "source": [
    "df['area'].value_counts()"
   ]
  },
  {
   "cell_type": "code",
   "execution_count": 406,
   "id": "1771079f",
   "metadata": {},
   "outputs": [
    {
     "data": {
      "text/plain": [
       "High School    46247\n",
       "Bachelor       39399\n",
       "Others          3746\n",
       "Name: qualification, dtype: int64"
      ]
     },
     "execution_count": 406,
     "metadata": {},
     "output_type": "execute_result"
    }
   ],
   "source": [
    "df['qualification'].value_counts()"
   ]
  },
  {
   "cell_type": "code",
   "execution_count": 407,
   "id": "fcebefdf",
   "metadata": {},
   "outputs": [
    {
     "data": {
      "text/plain": [
       "5L-10L           52716\n",
       "2L-5L            21158\n",
       "More than 10L    13664\n",
       "<=2L              1854\n",
       "Name: income, dtype: int64"
      ]
     },
     "execution_count": 407,
     "metadata": {},
     "output_type": "execute_result"
    }
   ],
   "source": [
    "df['income'].value_counts()"
   ]
  },
  {
   "cell_type": "code",
   "execution_count": 408,
   "id": "bb96e1f8",
   "metadata": {},
   "outputs": [
    {
     "data": {
      "text/plain": [
       "1    51444\n",
       "0    37948\n",
       "Name: marital_status, dtype: int64"
      ]
     },
     "execution_count": 408,
     "metadata": {},
     "output_type": "execute_result"
    }
   ],
   "source": [
    "df['marital_status'].value_counts()"
   ]
  },
  {
   "cell_type": "code",
   "execution_count": 409,
   "id": "077f5085",
   "metadata": {},
   "outputs": [
    {
     "data": {
      "image/png": "[encoded data removed]",
      "text/plain": [
       "<Figure size 1080x432 with 1 Axes>"
      ]
     },
     "metadata": {
      "needs_background": "light"
     },
     "output_type": "display_data"
    },
    {
     "data": {
      "image/png": "[encoded data removed]",
      "text/plain": [
       "<Figure size 1080x432 with 1 Axes>"
      ]
     },
     "metadata": {
      "needs_background": "light"
     },
     "output_type": "display_data"
    }
   ],
   "source": [
    "cols_1 = df[['id', 'marital_status', 'vintage']]\n",
    "num_col = [col for col in df.columns if df[col].dtypes == 'int64' if col not in cols_1]\n",
    "for col in num_col:\n",
    "    fig, ax = plt.subplots(figsize=(15, 6))\n",
    "    sns.histplot(data=df, x=col, ax=ax)\n",
    "    plt.show()"
   ]
  },
  {
   "cell_type": "code",
   "execution_count": 410,
   "id": "daa1409a",
   "metadata": {},
   "outputs": [
    {
     "data": {
      "image/png": "[encoded data removed]",
      "text/plain": [
       "<Figure size 1080x432 with 1 Axes>"
      ]
     },
     "metadata": {
      "needs_background": "light"
     },
     "output_type": "display_data"
    }
   ],
   "source": [
    "fig, ax = plt.subplots(figsize=(15, 6))\n",
    "sns.countplot(data=df, x='marital_status', ax=ax)\n",
    "plt.show()"
   ]
  },
  {
   "cell_type": "code",
   "execution_count": 411,
   "id": "f34c395f",
   "metadata": {},
   "outputs": [
    {
     "data": {
      "image/png": "[encoded data removed]",
      "text/plain": [
       "<Figure size 1080x432 with 1 Axes>"
      ]
     },
     "metadata": {
      "needs_background": "light"
     },
     "output_type": "display_data"
    }
   ],
   "source": [
    "fig, ax = plt.subplots(figsize=(15, 6))\n",
    "sns.countplot(data=df, x='vintage', ax=ax)\n",
    "plt.show()"
   ]
  },
  {
   "cell_type": "code",
   "execution_count": 412,
   "id": "62454b97",
   "metadata": {},
   "outputs": [
    {
     "data": {
      "image/png": "[encoded data removed]",
      "text/plain": [
       "<Figure size 1080x432 with 2 Axes>"
      ]
     },
     "metadata": {
      "needs_background": "light"
     },
     "output_type": "display_data"
    }
   ],
   "source": [
    "plt.figure(figsize=(15, 6))\n",
    "sns.heatmap(df.corr(), annot=True)\n",
    "plt.show()"
   ]
  },
  {
   "cell_type": "code",
   "execution_count": 413,
   "id": "83a5bb1b",
   "metadata": {},
   "outputs": [
    {
     "data": {
      "text/html": [
       "<div>\n",
       "<style scoped>\n",
       "    .dataframe tbody tr th:only-of-type {\n",
       "        vertical-align: middle;\n",
       "    }\n",
       "\n",
       "    .dataframe tbody tr th {\n",
       "        vertical-align: top;\n",
       "    }\n",
       "\n",
       "    .dataframe thead th {\n",
       "        text-align: right;\n",
       "    }\n",
       "</style>\n",
       "<table border=\"1\" class=\"dataframe\">\n",
       "  <thead>\n",
       "    <tr style=\"text-align: right;\">\n",
       "      <th></th>\n",
       "      <th>min</th>\n",
       "      <th>max</th>\n",
       "      <th>mean</th>\n",
       "    </tr>\n",
       "    <tr>\n",
       "      <th>marital_status</th>\n",
       "      <th></th>\n",
       "      <th></th>\n",
       "      <th></th>\n",
       "    </tr>\n",
       "  </thead>\n",
       "  <tbody>\n",
       "    <tr>\n",
       "      <th>0</th>\n",
       "      <td>0</td>\n",
       "      <td>31894</td>\n",
       "      <td>4788.031411</td>\n",
       "    </tr>\n",
       "    <tr>\n",
       "      <th>1</th>\n",
       "      <td>0</td>\n",
       "      <td>28939</td>\n",
       "      <td>4029.493974</td>\n",
       "    </tr>\n",
       "  </tbody>\n",
       "</table>\n",
       "</div>"
      ],
      "text/plain": [
       "                min    max         mean\n",
       "marital_status                         \n",
       "0                 0  31894  4788.031411\n",
       "1                 0  28939  4029.493974"
      ]
     },
     "execution_count": 413,
     "metadata": {},
     "output_type": "execute_result"
    }
   ],
   "source": [
    "df.groupby('marital_status')['claim_amount'].agg(['min', 'max', 'mean'])"
   ]
  },
  {
   "cell_type": "markdown",
   "id": "d3c3c7c0",
   "metadata": {},
   "source": [
    "Do people who have high claim amount have high cltv?"
   ]
  },
  {
   "cell_type": "code",
   "execution_count": 414,
   "id": "7fef59b8",
   "metadata": {},
   "outputs": [
    {
     "data": {
      "image/png": "[encoded data removed]",
      "text/plain": [
       "<Figure size 720x432 with 1 Axes>"
      ]
     },
     "metadata": {
      "needs_background": "light"
     },
     "output_type": "display_data"
    }
   ],
   "source": [
    "plt.figure(figsize=(10, 6))\n",
    "sns.scatterplot(data=df, x='claim_amount', y='cltv')\n",
    "plt.show()"
   ]
  },
  {
   "cell_type": "markdown",
   "id": "0c5cee1c",
   "metadata": {},
   "source": [
    "What is up with 0 claim amount? No claim or outlier?"
   ]
  },
  {
   "cell_type": "code",
   "execution_count": 415,
   "id": "03f9e250",
   "metadata": {},
   "outputs": [
    {
     "data": {
      "text/plain": [
       "<AxesSubplot:ylabel='Frequency'>"
      ]
     },
     "execution_count": 415,
     "metadata": {},
     "output_type": "execute_result"
    },
    {
     "data": {
      "image/png": "[encoded data removed]",
      "text/plain": [
       "<Figure size 720x432 with 1 Axes>"
      ]
     },
     "metadata": {
      "needs_background": "light"
     },
     "output_type": "display_data"
    }
   ],
   "source": [
    "df.loc[df['claim_amount'] == 0, ['cltv']].plot(kind='hist', bins=100, figsize=(10 , 6))"
   ]
  },
  {
   "cell_type": "code",
   "execution_count": 416,
   "id": "7080d3e6",
   "metadata": {},
   "outputs": [
    {
     "data": {
      "text/plain": [
       "area \n",
       "Rural    0.719201\n",
       "Urban    0.280799\n",
       "dtype: float64"
      ]
     },
     "execution_count": 416,
     "metadata": {},
     "output_type": "execute_result"
    }
   ],
   "source": [
    "df.loc[df['claim_amount'] == 0, ['area']].value_counts(normalize=True)"
   ]
  },
  {
   "cell_type": "code",
   "execution_count": 417,
   "id": "baa35a47",
   "metadata": {},
   "outputs": [
    {
     "data": {
      "text/plain": [
       "<AxesSubplot:xlabel='income', ylabel='count'>"
      ]
     },
     "execution_count": 417,
     "metadata": {},
     "output_type": "execute_result"
    },
    {
     "data": {
      "image/png": "[encoded data removed]",
      "text/plain": [
       "<Figure size 432x288 with 1 Axes>"
      ]
     },
     "metadata": {
      "needs_background": "light"
     },
     "output_type": "display_data"
    }
   ],
   "source": [
    "sns.countplot(data=df, x='income', hue='area')"
   ]
  },
  {
   "cell_type": "code",
   "execution_count": 418,
   "id": "284b671e",
   "metadata": {
    "scrolled": true
   },
   "outputs": [
    {
     "data": {
      "image/png": "[encoded data removed]",
      "text/plain": [
       "<Figure size 432x288 with 1 Axes>"
      ]
     },
     "metadata": {
      "needs_background": "light"
     },
     "output_type": "display_data"
    },
    {
     "data": {
      "image/png": "[encoded data removed]",
      "text/plain": [
       "<Figure size 432x288 with 1 Axes>"
      ]
     },
     "metadata": {
      "needs_background": "light"
     },
     "output_type": "display_data"
    },
    {
     "data": {
      "image/png": "[encoded data removed]",
      "text/plain": [
       "<Figure size 432x288 with 1 Axes>"
      ]
     },
     "metadata": {
      "needs_background": "light"
     },
     "output_type": "display_data"
    },
    {
     "data": {
      "image/png": "[encoded data removed]",
      "text/plain": [
       "<Figure size 432x288 with 1 Axes>"
      ]
     },
     "metadata": {
      "needs_background": "light"
     },
     "output_type": "display_data"
    },
    {
     "data": {
      "image/png": "[encoded data removed]",
      "text/plain": [
       "<Figure size 432x288 with 1 Axes>"
      ]
     },
     "metadata": {
      "needs_background": "light"
     },
     "output_type": "display_data"
    },
    {
     "data": {
      "image/png": "[encoded data removed]",
      "text/plain": [
       "<Figure size 432x288 with 1 Axes>"
      ]
     },
     "metadata": {
      "needs_background": "light"
     },
     "output_type": "display_data"
    },
    {
     "data": {
      "image/png": "[encoded data removed]",
      "text/plain": [
       "<Figure size 432x288 with 1 Axes>"
      ]
     },
     "metadata": {
      "needs_background": "light"
     },
     "output_type": "display_data"
    }
   ],
   "source": [
    "cat_col = [col for col in df.columns if df[col].dtypes == 'object']\n",
    "for col in cat_col:\n",
    "    fig, ax = plt.subplots()\n",
    "    sns.barplot(data=df, x=col, y='cltv', ax=ax)\n",
    "    plt.show()"
   ]
  },
  {
   "cell_type": "code",
   "execution_count": 419,
   "id": "68b56247",
   "metadata": {},
   "outputs": [
    {
     "data": {
      "text/html": [
       "<div>\n",
       "<style scoped>\n",
       "    .dataframe tbody tr th:only-of-type {\n",
       "        vertical-align: middle;\n",
       "    }\n",
       "\n",
       "    .dataframe tbody tr th {\n",
       "        vertical-align: top;\n",
       "    }\n",
       "\n",
       "    .dataframe thead th {\n",
       "        text-align: right;\n",
       "    }\n",
       "</style>\n",
       "<table border=\"1\" class=\"dataframe\">\n",
       "  <thead>\n",
       "    <tr style=\"text-align: right;\">\n",
       "      <th></th>\n",
       "      <th>id</th>\n",
       "      <th>gender</th>\n",
       "      <th>area</th>\n",
       "      <th>qualification</th>\n",
       "      <th>income</th>\n",
       "      <th>marital_status</th>\n",
       "      <th>vintage</th>\n",
       "      <th>claim_amount</th>\n",
       "      <th>num_policies</th>\n",
       "      <th>policy</th>\n",
       "      <th>type_of_policy</th>\n",
       "      <th>cltv</th>\n",
       "    </tr>\n",
       "  </thead>\n",
       "  <tbody>\n",
       "    <tr>\n",
       "      <th>0</th>\n",
       "      <td>1</td>\n",
       "      <td>Male</td>\n",
       "      <td>Urban</td>\n",
       "      <td>Bachelor</td>\n",
       "      <td>5L-10L</td>\n",
       "      <td>1</td>\n",
       "      <td>5</td>\n",
       "      <td>5790</td>\n",
       "      <td>More than 1</td>\n",
       "      <td>A</td>\n",
       "      <td>Platinum</td>\n",
       "      <td>64308</td>\n",
       "    </tr>\n",
       "    <tr>\n",
       "      <th>1</th>\n",
       "      <td>2</td>\n",
       "      <td>Male</td>\n",
       "      <td>Rural</td>\n",
       "      <td>High School</td>\n",
       "      <td>5L-10L</td>\n",
       "      <td>0</td>\n",
       "      <td>8</td>\n",
       "      <td>5080</td>\n",
       "      <td>More than 1</td>\n",
       "      <td>A</td>\n",
       "      <td>Platinum</td>\n",
       "      <td>515400</td>\n",
       "    </tr>\n",
       "    <tr>\n",
       "      <th>2</th>\n",
       "      <td>3</td>\n",
       "      <td>Male</td>\n",
       "      <td>Urban</td>\n",
       "      <td>Bachelor</td>\n",
       "      <td>5L-10L</td>\n",
       "      <td>1</td>\n",
       "      <td>8</td>\n",
       "      <td>2599</td>\n",
       "      <td>More than 1</td>\n",
       "      <td>A</td>\n",
       "      <td>Platinum</td>\n",
       "      <td>64212</td>\n",
       "    </tr>\n",
       "    <tr>\n",
       "      <th>3</th>\n",
       "      <td>4</td>\n",
       "      <td>Female</td>\n",
       "      <td>Rural</td>\n",
       "      <td>High School</td>\n",
       "      <td>5L-10L</td>\n",
       "      <td>0</td>\n",
       "      <td>7</td>\n",
       "      <td>0</td>\n",
       "      <td>More than 1</td>\n",
       "      <td>A</td>\n",
       "      <td>Platinum</td>\n",
       "      <td>97920</td>\n",
       "    </tr>\n",
       "    <tr>\n",
       "      <th>4</th>\n",
       "      <td>5</td>\n",
       "      <td>Male</td>\n",
       "      <td>Urban</td>\n",
       "      <td>High School</td>\n",
       "      <td>More than 10L</td>\n",
       "      <td>1</td>\n",
       "      <td>6</td>\n",
       "      <td>3508</td>\n",
       "      <td>More than 1</td>\n",
       "      <td>A</td>\n",
       "      <td>Gold</td>\n",
       "      <td>59736</td>\n",
       "    </tr>\n",
       "  </tbody>\n",
       "</table>\n",
       "</div>"
      ],
      "text/plain": [
       "   id  gender   area qualification         income  marital_status  vintage  \\\n",
       "0   1    Male  Urban      Bachelor         5L-10L               1        5   \n",
       "1   2    Male  Rural   High School         5L-10L               0        8   \n",
       "2   3    Male  Urban      Bachelor         5L-10L               1        8   \n",
       "3   4  Female  Rural   High School         5L-10L               0        7   \n",
       "4   5    Male  Urban   High School  More than 10L               1        6   \n",
       "\n",
       "   claim_amount num_policies policy type_of_policy    cltv  \n",
       "0          5790  More than 1      A       Platinum   64308  \n",
       "1          5080  More than 1      A       Platinum  515400  \n",
       "2          2599  More than 1      A       Platinum   64212  \n",
       "3             0  More than 1      A       Platinum   97920  \n",
       "4          3508  More than 1      A           Gold   59736  "
      ]
     },
     "execution_count": 419,
     "metadata": {},
     "output_type": "execute_result"
    }
   ],
   "source": [
    "df.head()"
   ]
  },
  {
   "cell_type": "code",
   "execution_count": 420,
   "id": "875a700c",
   "metadata": {},
   "outputs": [
    {
     "data": {
      "text/plain": [
       "area   income       \n",
       "Rural  5L-10L           17637\n",
       "       More than 10L     6475\n",
       "       2L-5L             2810\n",
       "       <=2L                15\n",
       "Urban  5L-10L           35079\n",
       "       2L-5L            18348\n",
       "       More than 10L     7189\n",
       "       <=2L              1839\n",
       "Name: income, dtype: int64"
      ]
     },
     "execution_count": 420,
     "metadata": {},
     "output_type": "execute_result"
    }
   ],
   "source": [
    "df.groupby('area')['income'].value_counts()"
   ]
  },
  {
   "cell_type": "code",
   "execution_count": 421,
   "id": "91681879",
   "metadata": {},
   "outputs": [
    {
     "data": {
      "text/plain": [
       "0              [5L, 10L]\n",
       "1              [5L, 10L]\n",
       "2              [5L, 10L]\n",
       "3              [5L, 10L]\n",
       "4        [More than 10L]\n",
       "              ...       \n",
       "89387    [More than 10L]\n",
       "89388          [5L, 10L]\n",
       "89389          [5L, 10L]\n",
       "89390           [2L, 5L]\n",
       "89391          [5L, 10L]\n",
       "Name: income, Length: 89392, dtype: object"
      ]
     },
     "execution_count": 421,
     "metadata": {},
     "output_type": "execute_result"
    }
   ],
   "source": [
    "df['income'].apply(lambda x: x.split('-'))"
   ]
  },
  {
   "cell_type": "markdown",
   "id": "daccda9a",
   "metadata": {},
   "source": [
    "1. Number of claims made by the customer in the past\n",
    "2. Number of years since the last policy was issued\n",
    "3. Number of years since the last claim was made\n",
    "4. Number of years since the last policy renewal\n",
    "5. Number of policies cancelled by the customer \n",
    "6. Occupation of the customer \n",
    "7. Number of years since the first policy was issued \n",
    "8. Average claim amount\n",
    "9. Average premium amount\n",
    "\n",
    "Give ratio features\n",
    "\n",
    "1. Claim amount to income ratio\n",
    "2. Premium amount to income ratio\n",
    "3. Number of policies to vintage ratio\n",
    "4. Number of claims to vintage ratio\n",
    "5. Number of years since last policy was issued to vintage ratio\n",
    "6. Number of years since last claim was made to vintage ratio\n",
    "7. Number of years since last policy renewal to vintage ratio"
   ]
  },
  {
   "cell_type": "code",
   "execution_count": 422,
   "id": "4198d1ab",
   "metadata": {},
   "outputs": [],
   "source": [
    "df['age'] = df['vintage']/365.25"
   ]
  },
  {
   "cell_type": "code",
   "execution_count": 423,
   "id": "2a790264",
   "metadata": {},
   "outputs": [],
   "source": [
    "df['family_size'] = np.where(df['marital_status']==1, 2, 1)"
   ]
  },
  {
   "cell_type": "code",
   "execution_count": 424,
   "id": "b1d701ff",
   "metadata": {
    "scrolled": true
   },
   "outputs": [
    {
     "data": {
      "text/plain": [
       "array(['Platinum', 'Gold', 'Silver'], dtype=object)"
      ]
     },
     "execution_count": 424,
     "metadata": {},
     "output_type": "execute_result"
    }
   ],
   "source": [
    "df['type_of_policy'].unique()"
   ]
  },
  {
   "cell_type": "code",
   "execution_count": 425,
   "id": "a055fd66",
   "metadata": {
    "scrolled": true
   },
   "outputs": [
    {
     "data": {
      "text/plain": [
       "array(['More than 1', '1'], dtype=object)"
      ]
     },
     "execution_count": 425,
     "metadata": {},
     "output_type": "execute_result"
    }
   ],
   "source": [
    "df['num_policies'].unique()"
   ]
  },
  {
   "cell_type": "code",
   "execution_count": 426,
   "id": "71a49a53",
   "metadata": {},
   "outputs": [],
   "source": [
    "num_policies = df['num_policies']\n",
    "type_of_policy = df['type_of_policy']\n",
    "df['spending_power'] =  np.where((num_policies=='More than 1') & (type_of_policy=='Silver'), 3,\n",
    "                        np.where((num_policies=='More than 1') & (type_of_policy=='Gold'), 2,\n",
    "                        np.where((num_policies=='More than 1') & (income=='Platinum'), 1, \n",
    "                        np.where((num_policies=='1') & (type_of_policy=='Silver'), 6,\n",
    "                        np.where((num_policies=='1') & (type_of_policy=='Gold'), 4,\n",
    "                        np.where((num_policies=='1') & (type_of_policy=='Platinum'), 2, 0))))))"
   ]
  },
  {
   "cell_type": "code",
   "execution_count": 427,
   "id": "63d88ee2",
   "metadata": {},
   "outputs": [],
   "source": [
    "qualification = df['qualification']\n",
    "df['education_level'] = (np.where(qualification=='Other', 3,\n",
    "                         np.where(qualification=='Bachelor', 2,\n",
    "                         np.where(qualification=='High School', 1, 0))))"
   ]
  },
  {
   "cell_type": "code",
   "execution_count": 428,
   "id": "2246011a",
   "metadata": {},
   "outputs": [
    {
     "data": {
      "text/plain": [
       "array(['5L-10L', 'More than 10L', '2L-5L', '<=2L'], dtype=object)"
      ]
     },
     "execution_count": 428,
     "metadata": {},
     "output_type": "execute_result"
    }
   ],
   "source": [
    "df['income'].unique()"
   ]
  },
  {
   "cell_type": "code",
   "execution_count": 429,
   "id": "b1f9552c",
   "metadata": {},
   "outputs": [
    {
     "data": {
      "text/plain": [
       "700000"
      ]
     },
     "execution_count": 429,
     "metadata": {},
     "output_type": "execute_result"
    }
   ],
   "source": [
    "200000 + 500000"
   ]
  },
  {
   "cell_type": "code",
   "execution_count": 430,
   "id": "6e8bc80c",
   "metadata": {},
   "outputs": [
    {
     "data": {
      "text/plain": [
       "350000.0"
      ]
     },
     "execution_count": 430,
     "metadata": {},
     "output_type": "execute_result"
    }
   ],
   "source": [
    "700000 / 2"
   ]
  },
  {
   "cell_type": "code",
   "execution_count": 431,
   "id": "3ddad4c9",
   "metadata": {},
   "outputs": [],
   "source": [
    "income = df['income']\n",
    "area = df['area']\n",
    "df['spending_power'] =  np.where((area=='Urban') & (income=='5L - 10L'), 150000,\n",
    "                        np.where((area=='Urban') & (income=='2L - 5L'), 350000,\n",
    "                        np.where((area=='Urban') & (income=='<=2L'), 200000, \n",
    "                        np.where((area=='Urban') & (income=='More than 10L'), 1000000,\n",
    "                        np.where((area=='Rural') & (income=='5L - 10L'), 100000,\n",
    "                        np.where((area=='Rural') & (income=='2L - 5L'), 350000,\n",
    "                        np.where((area=='Rural') & (income=='<=2L'), 200000, \n",
    "                        np.where((area=='Rural') & (income=='More than 10L'), 1000000, 0))))))))"
   ]
  },
  {
   "cell_type": "code",
   "execution_count": 432,
   "id": "eef1a140",
   "metadata": {},
   "outputs": [
    {
     "data": {
      "text/plain": [
       "0.0386"
      ]
     },
     "execution_count": 432,
     "metadata": {},
     "output_type": "execute_result"
    }
   ],
   "source": [
    "5790 / 150000"
   ]
  },
  {
   "cell_type": "code",
   "execution_count": 433,
   "id": "cb5cadf9",
   "metadata": {},
   "outputs": [
    {
     "data": {
      "text/html": [
       "<div>\n",
       "<style scoped>\n",
       "    .dataframe tbody tr th:only-of-type {\n",
       "        vertical-align: middle;\n",
       "    }\n",
       "\n",
       "    .dataframe tbody tr th {\n",
       "        vertical-align: top;\n",
       "    }\n",
       "\n",
       "    .dataframe thead th {\n",
       "        text-align: right;\n",
       "    }\n",
       "</style>\n",
       "<table border=\"1\" class=\"dataframe\">\n",
       "  <thead>\n",
       "    <tr style=\"text-align: right;\">\n",
       "      <th></th>\n",
       "      <th>id</th>\n",
       "      <th>gender</th>\n",
       "      <th>area</th>\n",
       "      <th>qualification</th>\n",
       "      <th>income</th>\n",
       "      <th>marital_status</th>\n",
       "      <th>vintage</th>\n",
       "      <th>claim_amount</th>\n",
       "      <th>num_policies</th>\n",
       "      <th>policy</th>\n",
       "      <th>type_of_policy</th>\n",
       "      <th>cltv</th>\n",
       "      <th>age</th>\n",
       "      <th>family_size</th>\n",
       "      <th>spending_power</th>\n",
       "      <th>education_level</th>\n",
       "    </tr>\n",
       "  </thead>\n",
       "  <tbody>\n",
       "    <tr>\n",
       "      <th>0</th>\n",
       "      <td>1</td>\n",
       "      <td>Male</td>\n",
       "      <td>Urban</td>\n",
       "      <td>Bachelor</td>\n",
       "      <td>5L-10L</td>\n",
       "      <td>1</td>\n",
       "      <td>5</td>\n",
       "      <td>5790</td>\n",
       "      <td>More than 1</td>\n",
       "      <td>A</td>\n",
       "      <td>Platinum</td>\n",
       "      <td>64308</td>\n",
       "      <td>0.013689</td>\n",
       "      <td>2</td>\n",
       "      <td>0</td>\n",
       "      <td>2</td>\n",
       "    </tr>\n",
       "    <tr>\n",
       "      <th>1</th>\n",
       "      <td>2</td>\n",
       "      <td>Male</td>\n",
       "      <td>Rural</td>\n",
       "      <td>High School</td>\n",
       "      <td>5L-10L</td>\n",
       "      <td>0</td>\n",
       "      <td>8</td>\n",
       "      <td>5080</td>\n",
       "      <td>More than 1</td>\n",
       "      <td>A</td>\n",
       "      <td>Platinum</td>\n",
       "      <td>515400</td>\n",
       "      <td>0.021903</td>\n",
       "      <td>1</td>\n",
       "      <td>0</td>\n",
       "      <td>1</td>\n",
       "    </tr>\n",
       "    <tr>\n",
       "      <th>2</th>\n",
       "      <td>3</td>\n",
       "      <td>Male</td>\n",
       "      <td>Urban</td>\n",
       "      <td>Bachelor</td>\n",
       "      <td>5L-10L</td>\n",
       "      <td>1</td>\n",
       "      <td>8</td>\n",
       "      <td>2599</td>\n",
       "      <td>More than 1</td>\n",
       "      <td>A</td>\n",
       "      <td>Platinum</td>\n",
       "      <td>64212</td>\n",
       "      <td>0.021903</td>\n",
       "      <td>2</td>\n",
       "      <td>0</td>\n",
       "      <td>2</td>\n",
       "    </tr>\n",
       "    <tr>\n",
       "      <th>3</th>\n",
       "      <td>4</td>\n",
       "      <td>Female</td>\n",
       "      <td>Rural</td>\n",
       "      <td>High School</td>\n",
       "      <td>5L-10L</td>\n",
       "      <td>0</td>\n",
       "      <td>7</td>\n",
       "      <td>0</td>\n",
       "      <td>More than 1</td>\n",
       "      <td>A</td>\n",
       "      <td>Platinum</td>\n",
       "      <td>97920</td>\n",
       "      <td>0.019165</td>\n",
       "      <td>1</td>\n",
       "      <td>0</td>\n",
       "      <td>1</td>\n",
       "    </tr>\n",
       "    <tr>\n",
       "      <th>4</th>\n",
       "      <td>5</td>\n",
       "      <td>Male</td>\n",
       "      <td>Urban</td>\n",
       "      <td>High School</td>\n",
       "      <td>More than 10L</td>\n",
       "      <td>1</td>\n",
       "      <td>6</td>\n",
       "      <td>3508</td>\n",
       "      <td>More than 1</td>\n",
       "      <td>A</td>\n",
       "      <td>Gold</td>\n",
       "      <td>59736</td>\n",
       "      <td>0.016427</td>\n",
       "      <td>2</td>\n",
       "      <td>1000000</td>\n",
       "      <td>1</td>\n",
       "    </tr>\n",
       "  </tbody>\n",
       "</table>\n",
       "</div>"
      ],
      "text/plain": [
       "   id  gender   area qualification         income  marital_status  vintage  \\\n",
       "0   1    Male  Urban      Bachelor         5L-10L               1        5   \n",
       "1   2    Male  Rural   High School         5L-10L               0        8   \n",
       "2   3    Male  Urban      Bachelor         5L-10L               1        8   \n",
       "3   4  Female  Rural   High School         5L-10L               0        7   \n",
       "4   5    Male  Urban   High School  More than 10L               1        6   \n",
       "\n",
       "   claim_amount num_policies policy type_of_policy    cltv       age  \\\n",
       "0          5790  More than 1      A       Platinum   64308  0.013689   \n",
       "1          5080  More than 1      A       Platinum  515400  0.021903   \n",
       "2          2599  More than 1      A       Platinum   64212  0.021903   \n",
       "3             0  More than 1      A       Platinum   97920  0.019165   \n",
       "4          3508  More than 1      A           Gold   59736  0.016427   \n",
       "\n",
       "   family_size  spending_power  education_level  \n",
       "0            2               0                2  \n",
       "1            1               0                1  \n",
       "2            2               0                2  \n",
       "3            1               0                1  \n",
       "4            2         1000000                1  "
      ]
     },
     "execution_count": 433,
     "metadata": {},
     "output_type": "execute_result"
    }
   ],
   "source": [
    "pd.set_option('display.max_columns', 26)\n",
    "df.head()"
   ]
  },
  {
   "cell_type": "code",
   "execution_count": 463,
   "id": "9e5dfd85",
   "metadata": {},
   "outputs": [
    {
     "data": {
      "text/plain": [
       "id                                 0\n",
       "gender                             0\n",
       "area                               0\n",
       "qualification                      0\n",
       "income                             0\n",
       "marital_status                     0\n",
       "vintage                            0\n",
       "claim_amount                       0\n",
       "num_policies                       0\n",
       "policy                             0\n",
       "type_of_policy                     0\n",
       "cltv                               0\n",
       "age                                0\n",
       "family_size                        0\n",
       "spending_power                     0\n",
       "education_level                    0\n",
       "income_int                         0\n",
       "risk_factor                        0\n",
       "no_of_claims                       0\n",
       "policy_tenure                      0\n",
       "avg_premium_amount                 0\n",
       "num_policies_int                   0\n",
       "claim_amt_to_income_ratio          0\n",
       "premium_amt_to_income_ratio        0\n",
       "no_of_policies_to_vintage_ratio    0\n",
       "no_of_claims_to_vintage_ratio      0\n",
       "dtype: int64"
      ]
     },
     "execution_count": 463,
     "metadata": {},
     "output_type": "execute_result"
    }
   ],
   "source": [
    "df.isnull().sum()"
   ]
  },
  {
   "cell_type": "code",
   "execution_count": 462,
   "id": "14b1b72a",
   "metadata": {},
   "outputs": [
    {
     "data": {
      "text/html": [
       "<div>\n",
       "<style scoped>\n",
       "    .dataframe tbody tr th:only-of-type {\n",
       "        vertical-align: middle;\n",
       "    }\n",
       "\n",
       "    .dataframe tbody tr th {\n",
       "        vertical-align: top;\n",
       "    }\n",
       "\n",
       "    .dataframe thead th {\n",
       "        text-align: right;\n",
       "    }\n",
       "</style>\n",
       "<table border=\"1\" class=\"dataframe\">\n",
       "  <thead>\n",
       "    <tr style=\"text-align: right;\">\n",
       "      <th></th>\n",
       "      <th>id</th>\n",
       "      <th>gender</th>\n",
       "      <th>area</th>\n",
       "      <th>qualification</th>\n",
       "      <th>income</th>\n",
       "      <th>marital_status</th>\n",
       "      <th>vintage</th>\n",
       "      <th>claim_amount</th>\n",
       "      <th>num_policies</th>\n",
       "      <th>policy</th>\n",
       "      <th>type_of_policy</th>\n",
       "      <th>cltv</th>\n",
       "      <th>age</th>\n",
       "      <th>family_size</th>\n",
       "      <th>spending_power</th>\n",
       "      <th>education_level</th>\n",
       "      <th>income_int</th>\n",
       "      <th>risk_factor</th>\n",
       "      <th>no_of_claims</th>\n",
       "      <th>policy_tenure</th>\n",
       "      <th>avg_premium_amount</th>\n",
       "      <th>num_policies_int</th>\n",
       "      <th>claim_amt_to_income_ratio</th>\n",
       "      <th>premium_amt_to_income_ratio</th>\n",
       "      <th>no_of_policies_to_vintage_ratio</th>\n",
       "      <th>no_of_claims_to_vintage_ratio</th>\n",
       "    </tr>\n",
       "  </thead>\n",
       "  <tbody>\n",
       "  </tbody>\n",
       "</table>\n",
       "</div>"
      ],
      "text/plain": [
       "Empty DataFrame\n",
       "Columns: [id, gender, area, qualification, income, marital_status, vintage, claim_amount, num_policies, policy, type_of_policy, cltv, age, family_size, spending_power, education_level, income_int, risk_factor, no_of_claims, policy_tenure, avg_premium_amount, num_policies_int, claim_amt_to_income_ratio, premium_amt_to_income_ratio, no_of_policies_to_vintage_ratio, no_of_claims_to_vintage_ratio]\n",
       "Index: []"
      ]
     },
     "execution_count": 462,
     "metadata": {},
     "output_type": "execute_result"
    }
   ],
   "source": [
    "df.loc[df['claim_amt_to_income_ratio'].isnull(), :]"
   ]
  },
  {
   "cell_type": "code",
   "execution_count": null,
   "id": "cad88f26",
   "metadata": {},
   "outputs": [],
   "source": [
    "df['claim_amt_to_income_ratio'].fillna(0, axis=0, inplace=True)"
   ]
  },
  {
   "cell_type": "code",
   "execution_count": 438,
   "id": "83762ddc",
   "metadata": {},
   "outputs": [
    {
     "data": {
      "text/plain": [
       "0        5790\n",
       "1        5080\n",
       "2        2599\n",
       "3           0\n",
       "4        3508\n",
       "         ... \n",
       "89387       0\n",
       "89388    3897\n",
       "89389    3363\n",
       "89390       0\n",
       "89391       0\n",
       "Name: claim_amount, Length: 89392, dtype: int64"
      ]
     },
     "execution_count": 438,
     "metadata": {},
     "output_type": "execute_result"
    }
   ],
   "source": [
    "df['claim_amount']"
   ]
  },
  {
   "cell_type": "code",
   "execution_count": 439,
   "id": "0d7a6903",
   "metadata": {},
   "outputs": [
    {
     "data": {
      "text/html": [
       "<div>\n",
       "<style scoped>\n",
       "    .dataframe tbody tr th:only-of-type {\n",
       "        vertical-align: middle;\n",
       "    }\n",
       "\n",
       "    .dataframe tbody tr th {\n",
       "        vertical-align: top;\n",
       "    }\n",
       "\n",
       "    .dataframe thead th {\n",
       "        text-align: right;\n",
       "    }\n",
       "</style>\n",
       "<table border=\"1\" class=\"dataframe\">\n",
       "  <thead>\n",
       "    <tr style=\"text-align: right;\">\n",
       "      <th></th>\n",
       "      <th>id</th>\n",
       "      <th>gender</th>\n",
       "      <th>area</th>\n",
       "      <th>qualification</th>\n",
       "      <th>income</th>\n",
       "      <th>marital_status</th>\n",
       "      <th>vintage</th>\n",
       "      <th>claim_amount</th>\n",
       "      <th>num_policies</th>\n",
       "      <th>policy</th>\n",
       "      <th>type_of_policy</th>\n",
       "      <th>cltv</th>\n",
       "      <th>age</th>\n",
       "      <th>family_size</th>\n",
       "      <th>spending_power</th>\n",
       "      <th>education_level</th>\n",
       "    </tr>\n",
       "  </thead>\n",
       "  <tbody>\n",
       "    <tr>\n",
       "      <th>0</th>\n",
       "      <td>1</td>\n",
       "      <td>Male</td>\n",
       "      <td>Urban</td>\n",
       "      <td>Bachelor</td>\n",
       "      <td>5L-10L</td>\n",
       "      <td>1</td>\n",
       "      <td>5</td>\n",
       "      <td>5790</td>\n",
       "      <td>More than 1</td>\n",
       "      <td>A</td>\n",
       "      <td>Platinum</td>\n",
       "      <td>64308</td>\n",
       "      <td>0.013689</td>\n",
       "      <td>2</td>\n",
       "      <td>0</td>\n",
       "      <td>2</td>\n",
       "    </tr>\n",
       "    <tr>\n",
       "      <th>1</th>\n",
       "      <td>2</td>\n",
       "      <td>Male</td>\n",
       "      <td>Rural</td>\n",
       "      <td>High School</td>\n",
       "      <td>5L-10L</td>\n",
       "      <td>0</td>\n",
       "      <td>8</td>\n",
       "      <td>5080</td>\n",
       "      <td>More than 1</td>\n",
       "      <td>A</td>\n",
       "      <td>Platinum</td>\n",
       "      <td>515400</td>\n",
       "      <td>0.021903</td>\n",
       "      <td>1</td>\n",
       "      <td>0</td>\n",
       "      <td>1</td>\n",
       "    </tr>\n",
       "    <tr>\n",
       "      <th>2</th>\n",
       "      <td>3</td>\n",
       "      <td>Male</td>\n",
       "      <td>Urban</td>\n",
       "      <td>Bachelor</td>\n",
       "      <td>5L-10L</td>\n",
       "      <td>1</td>\n",
       "      <td>8</td>\n",
       "      <td>2599</td>\n",
       "      <td>More than 1</td>\n",
       "      <td>A</td>\n",
       "      <td>Platinum</td>\n",
       "      <td>64212</td>\n",
       "      <td>0.021903</td>\n",
       "      <td>2</td>\n",
       "      <td>0</td>\n",
       "      <td>2</td>\n",
       "    </tr>\n",
       "    <tr>\n",
       "      <th>3</th>\n",
       "      <td>4</td>\n",
       "      <td>Female</td>\n",
       "      <td>Rural</td>\n",
       "      <td>High School</td>\n",
       "      <td>5L-10L</td>\n",
       "      <td>0</td>\n",
       "      <td>7</td>\n",
       "      <td>0</td>\n",
       "      <td>More than 1</td>\n",
       "      <td>A</td>\n",
       "      <td>Platinum</td>\n",
       "      <td>97920</td>\n",
       "      <td>0.019165</td>\n",
       "      <td>1</td>\n",
       "      <td>0</td>\n",
       "      <td>1</td>\n",
       "    </tr>\n",
       "    <tr>\n",
       "      <th>4</th>\n",
       "      <td>5</td>\n",
       "      <td>Male</td>\n",
       "      <td>Urban</td>\n",
       "      <td>High School</td>\n",
       "      <td>More than 10L</td>\n",
       "      <td>1</td>\n",
       "      <td>6</td>\n",
       "      <td>3508</td>\n",
       "      <td>More than 1</td>\n",
       "      <td>A</td>\n",
       "      <td>Gold</td>\n",
       "      <td>59736</td>\n",
       "      <td>0.016427</td>\n",
       "      <td>2</td>\n",
       "      <td>1000000</td>\n",
       "      <td>1</td>\n",
       "    </tr>\n",
       "    <tr>\n",
       "      <th>...</th>\n",
       "      <td>...</td>\n",
       "      <td>...</td>\n",
       "      <td>...</td>\n",
       "      <td>...</td>\n",
       "      <td>...</td>\n",
       "      <td>...</td>\n",
       "      <td>...</td>\n",
       "      <td>...</td>\n",
       "      <td>...</td>\n",
       "      <td>...</td>\n",
       "      <td>...</td>\n",
       "      <td>...</td>\n",
       "      <td>...</td>\n",
       "      <td>...</td>\n",
       "      <td>...</td>\n",
       "      <td>...</td>\n",
       "    </tr>\n",
       "    <tr>\n",
       "      <th>89387</th>\n",
       "      <td>89388</td>\n",
       "      <td>Male</td>\n",
       "      <td>Rural</td>\n",
       "      <td>High School</td>\n",
       "      <td>More than 10L</td>\n",
       "      <td>0</td>\n",
       "      <td>6</td>\n",
       "      <td>0</td>\n",
       "      <td>More than 1</td>\n",
       "      <td>B</td>\n",
       "      <td>Platinum</td>\n",
       "      <td>95736</td>\n",
       "      <td>0.016427</td>\n",
       "      <td>1</td>\n",
       "      <td>1000000</td>\n",
       "      <td>1</td>\n",
       "    </tr>\n",
       "    <tr>\n",
       "      <th>89388</th>\n",
       "      <td>89389</td>\n",
       "      <td>Male</td>\n",
       "      <td>Urban</td>\n",
       "      <td>Bachelor</td>\n",
       "      <td>5L-10L</td>\n",
       "      <td>1</td>\n",
       "      <td>0</td>\n",
       "      <td>3897</td>\n",
       "      <td>More than 1</td>\n",
       "      <td>A</td>\n",
       "      <td>Platinum</td>\n",
       "      <td>67596</td>\n",
       "      <td>0.000000</td>\n",
       "      <td>2</td>\n",
       "      <td>0</td>\n",
       "      <td>2</td>\n",
       "    </tr>\n",
       "    <tr>\n",
       "      <th>89389</th>\n",
       "      <td>89390</td>\n",
       "      <td>Female</td>\n",
       "      <td>Urban</td>\n",
       "      <td>Bachelor</td>\n",
       "      <td>5L-10L</td>\n",
       "      <td>0</td>\n",
       "      <td>4</td>\n",
       "      <td>3363</td>\n",
       "      <td>More than 1</td>\n",
       "      <td>B</td>\n",
       "      <td>Platinum</td>\n",
       "      <td>114120</td>\n",
       "      <td>0.010951</td>\n",
       "      <td>1</td>\n",
       "      <td>0</td>\n",
       "      <td>2</td>\n",
       "    </tr>\n",
       "    <tr>\n",
       "      <th>89390</th>\n",
       "      <td>89391</td>\n",
       "      <td>Female</td>\n",
       "      <td>Rural</td>\n",
       "      <td>High School</td>\n",
       "      <td>2L-5L</td>\n",
       "      <td>0</td>\n",
       "      <td>8</td>\n",
       "      <td>0</td>\n",
       "      <td>More than 1</td>\n",
       "      <td>B</td>\n",
       "      <td>Platinum</td>\n",
       "      <td>71772</td>\n",
       "      <td>0.021903</td>\n",
       "      <td>1</td>\n",
       "      <td>0</td>\n",
       "      <td>1</td>\n",
       "    </tr>\n",
       "    <tr>\n",
       "      <th>89391</th>\n",
       "      <td>89392</td>\n",
       "      <td>Female</td>\n",
       "      <td>Rural</td>\n",
       "      <td>High School</td>\n",
       "      <td>5L-10L</td>\n",
       "      <td>0</td>\n",
       "      <td>6</td>\n",
       "      <td>0</td>\n",
       "      <td>More than 1</td>\n",
       "      <td>B</td>\n",
       "      <td>Gold</td>\n",
       "      <td>108144</td>\n",
       "      <td>0.016427</td>\n",
       "      <td>1</td>\n",
       "      <td>0</td>\n",
       "      <td>1</td>\n",
       "    </tr>\n",
       "  </tbody>\n",
       "</table>\n",
       "<p>89392 rows × 16 columns</p>\n",
       "</div>"
      ],
      "text/plain": [
       "          id  gender   area qualification         income  marital_status  \\\n",
       "0          1    Male  Urban      Bachelor         5L-10L               1   \n",
       "1          2    Male  Rural   High School         5L-10L               0   \n",
       "2          3    Male  Urban      Bachelor         5L-10L               1   \n",
       "3          4  Female  Rural   High School         5L-10L               0   \n",
       "4          5    Male  Urban   High School  More than 10L               1   \n",
       "...      ...     ...    ...           ...            ...             ...   \n",
       "89387  89388    Male  Rural   High School  More than 10L               0   \n",
       "89388  89389    Male  Urban      Bachelor         5L-10L               1   \n",
       "89389  89390  Female  Urban      Bachelor         5L-10L               0   \n",
       "89390  89391  Female  Rural   High School          2L-5L               0   \n",
       "89391  89392  Female  Rural   High School         5L-10L               0   \n",
       "\n",
       "       vintage  claim_amount num_policies policy type_of_policy    cltv  \\\n",
       "0            5          5790  More than 1      A       Platinum   64308   \n",
       "1            8          5080  More than 1      A       Platinum  515400   \n",
       "2            8          2599  More than 1      A       Platinum   64212   \n",
       "3            7             0  More than 1      A       Platinum   97920   \n",
       "4            6          3508  More than 1      A           Gold   59736   \n",
       "...        ...           ...          ...    ...            ...     ...   \n",
       "89387        6             0  More than 1      B       Platinum   95736   \n",
       "89388        0          3897  More than 1      A       Platinum   67596   \n",
       "89389        4          3363  More than 1      B       Platinum  114120   \n",
       "89390        8             0  More than 1      B       Platinum   71772   \n",
       "89391        6             0  More than 1      B           Gold  108144   \n",
       "\n",
       "            age  family_size  spending_power  education_level  \n",
       "0      0.013689            2               0                2  \n",
       "1      0.021903            1               0                1  \n",
       "2      0.021903            2               0                2  \n",
       "3      0.019165            1               0                1  \n",
       "4      0.016427            2         1000000                1  \n",
       "...         ...          ...             ...              ...  \n",
       "89387  0.016427            1         1000000                1  \n",
       "89388  0.000000            2               0                2  \n",
       "89389  0.010951            1               0                2  \n",
       "89390  0.021903            1               0                1  \n",
       "89391  0.016427            1               0                1  \n",
       "\n",
       "[89392 rows x 16 columns]"
      ]
     },
     "execution_count": 439,
     "metadata": {},
     "output_type": "execute_result"
    }
   ],
   "source": [
    "df[~df.isin([np.nan, np.inf, -np.inf])]"
   ]
  },
  {
   "cell_type": "code",
   "execution_count": 461,
   "id": "a0a03a87",
   "metadata": {},
   "outputs": [
    {
     "data": {
      "text/plain": [
       "id                                 False\n",
       "gender                             False\n",
       "area                               False\n",
       "qualification                      False\n",
       "income                             False\n",
       "marital_status                     False\n",
       "vintage                            False\n",
       "claim_amount                       False\n",
       "num_policies                       False\n",
       "policy                             False\n",
       "type_of_policy                     False\n",
       "cltv                               False\n",
       "age                                False\n",
       "family_size                        False\n",
       "spending_power                     False\n",
       "education_level                    False\n",
       "income_int                         False\n",
       "risk_factor                        False\n",
       "no_of_claims                       False\n",
       "policy_tenure                      False\n",
       "avg_premium_amount                 False\n",
       "num_policies_int                   False\n",
       "claim_amt_to_income_ratio          False\n",
       "premium_amt_to_income_ratio        False\n",
       "no_of_policies_to_vintage_ratio    False\n",
       "no_of_claims_to_vintage_ratio      False\n",
       "dtype: bool"
      ]
     },
     "execution_count": 461,
     "metadata": {},
     "output_type": "execute_result"
    }
   ],
   "source": [
    "df[df.isin([np.inf, -np.inf])].any()"
   ]
  },
  {
   "cell_type": "code",
   "execution_count": 441,
   "id": "ae3be2db",
   "metadata": {},
   "outputs": [
    {
     "data": {
      "text/html": [
       "<div>\n",
       "<style scoped>\n",
       "    .dataframe tbody tr th:only-of-type {\n",
       "        vertical-align: middle;\n",
       "    }\n",
       "\n",
       "    .dataframe tbody tr th {\n",
       "        vertical-align: top;\n",
       "    }\n",
       "\n",
       "    .dataframe thead th {\n",
       "        text-align: right;\n",
       "    }\n",
       "</style>\n",
       "<table border=\"1\" class=\"dataframe\">\n",
       "  <thead>\n",
       "    <tr style=\"text-align: right;\">\n",
       "      <th></th>\n",
       "      <th>id</th>\n",
       "      <th>gender</th>\n",
       "      <th>area</th>\n",
       "      <th>qualification</th>\n",
       "      <th>income</th>\n",
       "      <th>marital_status</th>\n",
       "      <th>vintage</th>\n",
       "      <th>claim_amount</th>\n",
       "      <th>num_policies</th>\n",
       "      <th>policy</th>\n",
       "      <th>type_of_policy</th>\n",
       "      <th>cltv</th>\n",
       "      <th>age</th>\n",
       "      <th>family_size</th>\n",
       "      <th>spending_power</th>\n",
       "      <th>education_level</th>\n",
       "    </tr>\n",
       "  </thead>\n",
       "  <tbody>\n",
       "  </tbody>\n",
       "</table>\n",
       "</div>"
      ],
      "text/plain": [
       "Empty DataFrame\n",
       "Columns: [id, gender, area, qualification, income, marital_status, vintage, claim_amount, num_policies, policy, type_of_policy, cltv, age, family_size, spending_power, education_level]\n",
       "Index: []"
      ]
     },
     "execution_count": 441,
     "metadata": {},
     "output_type": "execute_result"
    }
   ],
   "source": [
    "df[df.isin([np.inf, -np.inf]).any(1)]"
   ]
  },
  {
   "cell_type": "code",
   "execution_count": 460,
   "id": "b49d6b54",
   "metadata": {},
   "outputs": [
    {
     "data": {
      "text/plain": [
       "0        False\n",
       "1        False\n",
       "2        False\n",
       "3        False\n",
       "4        False\n",
       "         ...  \n",
       "89387    False\n",
       "89388    False\n",
       "89389    False\n",
       "89390    False\n",
       "89391    False\n",
       "Name: claim_amt_to_income_ratio, Length: 89392, dtype: bool"
      ]
     },
     "execution_count": 460,
     "metadata": {},
     "output_type": "execute_result"
    }
   ],
   "source": [
    "np.isinf(df['claim_amt_to_income_ratio'])"
   ]
  },
  {
   "cell_type": "code",
   "execution_count": 453,
   "id": "6cc0cbad",
   "metadata": {},
   "outputs": [],
   "source": [
    "df['claim_amt_to_income_ratio'] = df['claim_amt_to_income_ratio'].replace(np.inf, np.nan)\n",
    "df['risk_factor'] = df['risk_factor'].replace(np.inf, np.nan)\n",
    "df['premium_amt_to_income_ratio'] = df['premium_amt_to_income_ratio'].replace(np.inf, np.nan)\n",
    "df['no_of_policies_to_vintage_ratio'] = df['no_of_policies_to_vintage_ratio'].replace(np.inf, np.nan)\n",
    "df['no_of_claims_to_vintage_ratio'] = df['no_of_claims_to_vintage_ratio'].replace(np.inf, np.nan)"
   ]
  },
  {
   "cell_type": "code",
   "execution_count": 454,
   "id": "6786b097",
   "metadata": {},
   "outputs": [],
   "source": [
    "df['claim_amt_to_income_ratio'] = df['claim_amt_to_income_ratio'].fillna(0, axis=0)\n",
    "df['risk_factor'] = df['risk_factor'].fillna(0, axis=0)\n",
    "df['premium_amt_to_income_ratio'] = df['premium_amt_to_income_ratio'].fillna(0, axis=0)\n",
    "df['no_of_policies_to_vintage_ratio'] = df['no_of_policies_to_vintage_ratio'].fillna(0, axis=0)\n",
    "df['no_of_claims_to_vintage_ratio'] = df['no_of_claims_to_vintage_ratio'].fillna(0, axis=0)"
   ]
  },
  {
   "cell_type": "code",
   "execution_count": 445,
   "id": "008e6b38",
   "metadata": {},
   "outputs": [],
   "source": [
    "income = df['income']\n",
    "df['income_int'] = np.where(income=='5L-10L', 75000, \n",
    "                              np.where(income=='<=2L', 15000, \n",
    "                              np.where(income=='More than 10L', 120000, 0)))"
   ]
  },
  {
   "cell_type": "code",
   "execution_count": 446,
   "id": "d11c3a81",
   "metadata": {},
   "outputs": [],
   "source": [
    "claim_amount = df['claim_amount']\n",
    "income = df['income_int']\n",
    "df['risk_factor'] = claim_amount/income"
   ]
  },
  {
   "cell_type": "code",
   "execution_count": 447,
   "id": "17e056ad",
   "metadata": {},
   "outputs": [],
   "source": [
    "df['no_of_claims'] = df['claim_amount'].count()"
   ]
  },
  {
   "cell_type": "code",
   "execution_count": 448,
   "id": "4fc910c7",
   "metadata": {},
   "outputs": [],
   "source": [
    "policy = df['policy']\n",
    "df['policy_tenure'] = np.where(policy=='A', 3, \n",
    "                                 np.where(policy=='B', 2, \n",
    "                                 np.where(policy=='C', 1, 0)))\n",
    "\n",
    "df['avg_premium_amount'] = df['policy_tenure'].mean()"
   ]
  },
  {
   "cell_type": "code",
   "execution_count": 449,
   "id": "04c57d37",
   "metadata": {},
   "outputs": [
    {
     "data": {
      "text/plain": [
       "0        More than 1\n",
       "1        More than 1\n",
       "2        More than 1\n",
       "3        More than 1\n",
       "4        More than 1\n",
       "            ...     \n",
       "89387    More than 1\n",
       "89388    More than 1\n",
       "89389    More than 1\n",
       "89390    More than 1\n",
       "89391    More than 1\n",
       "Name: num_policies, Length: 89392, dtype: object"
      ]
     },
     "execution_count": 449,
     "metadata": {},
     "output_type": "execute_result"
    }
   ],
   "source": [
    "df['num_policies']"
   ]
  },
  {
   "cell_type": "code",
   "execution_count": 450,
   "id": "fb0a4c47",
   "metadata": {},
   "outputs": [],
   "source": [
    "num_policies_int_ = df['num_policies']\n",
    "df['num_policies_int'] = np.where(num_policies_int_=='More than 1', 2,\n",
    "                                 np.where(num_policies_int_=='1', 1, 0))"
   ]
  },
  {
   "cell_type": "code",
   "execution_count": 451,
   "id": "f2ca0661",
   "metadata": {},
   "outputs": [],
   "source": [
    "# Claim amount to income ratio\n",
    "df['claim_amt_to_income_ratio'] = df['claim_amount']/df['income_int']\n",
    "\n",
    "# Premium amount to income ratio\n",
    "df['premium_amt_to_income_ratio'] = df['policy_tenure']/df['income_int']\n",
    "\n",
    "# Number of policies to vintage ratio\n",
    "df['no_of_policies_to_vintage_ratio'] = df['num_policies_int']/df['vintage']"
   ]
  },
  {
   "cell_type": "code",
   "execution_count": 452,
   "id": "6256c92b",
   "metadata": {},
   "outputs": [],
   "source": [
    "# Number of claims to vintage ratio\n",
    "df['no_of_claims_to_vintage_ratio'] = df['claim_amount'].count()/df['vintage']"
   ]
  },
  {
   "cell_type": "markdown",
   "id": "6953cc5c",
   "metadata": {},
   "source": [
    "1. Age: Age of the customer\n",
    "2. Education: Level of Education of the customer\n",
    "3. Occupation: Occupation of the customer\n",
    "4. Credit_Score: Credit Score of the customer\n",
    "5. Number_of_dependents: Number of dependents of the customer\n",
    "6. Total_assets: Total assets of the customer\n",
    "7. Total_liabilities: Total liabilities of the customer\n",
    "8. Net_worth: Difference between total assets and total liabilities of the customer\n",
    "9. Income_velocity: Ratio of Income earned in a year to the number of months in a year\n",
    "10. Years_at_current_residence: Number of years the customer has been living at the same residence\n",
    "11. Num_claims: Total no. of claims in the past\n",
    "12. Claim_amount_per_policy: Average claim amount per policy of the customer\n",
    "13. Claims_ratio: Ratio of number of claims to number of policies of the customer\n",
    "14. Policy_preference: Number of policies in each type of policy preferred by the customer\n",
    "15. Loyalty_score: Score given to the customer based on the number of years since the first policy date"
   ]
  },
  {
   "cell_type": "markdown",
   "id": "b93f56d6",
   "metadata": {},
   "source": [
    "1. Age: Use vintage column to calculate the age of the customer.\n",
    "2. Education: Use the qualification column to determine the level of education of the customer.\n",
    "3. Occupation: Use the income column to determine the occupation of the customer.\n",
    "4. Credit_Score: Use the income, num_policies, vintage and claim_amount to calculate the credit score of the customer.\n",
    "5. Number_of_dependents: Use the marital_status column to determine the number of dependents of the customer.\n",
    "6. Total_assets: Use the income and net worth of the customer to calculate the total assets.\n",
    "7. Total_liabilities: Use the income and net worth of the customer to calculate the total liabilities.\n",
    "8. Net_worth: Calculate the difference between the total assets and total liabilities.\n",
    "9. Income_velocity: Calculate the ratio of income earned in a year to the number of months in a year.\n",
    "10. Years_at_current_residence: Use the vintage column to calculate the number of years the customer has been living at the same residence.\n",
    "11. Num_claims: Use the claim_amount column to calculate the total number of claims in the past.\n",
    "12. Claim_amount_per_policy: Use the claim_amount and num_policies columns to calculate the average claim amount per policy of the customer.\n",
    "13. Claims_ratio: Calculate the ratio of number of claims to number of policies of the customer.\n",
    "14. Policy_preference: Use the type_of_policy column to calculate the number of policies in each type of policy preferred by the customer.\n",
    "15. Loyalty_score: Use the vintage column to calculate the score given to the customer based on the number of years since the first policy date."
   ]
  },
  {
   "cell_type": "markdown",
   "id": "b39dc154",
   "metadata": {},
   "source": [
    "Ratio features: \n",
    "1. Ratio of claim_amount to income \n",
    "2. Ratio of num_policies to vintage \n",
    "3. Ratio of vintage to policy\n",
    "\n",
    "Frequency features: \n",
    "1. Frequency of customers based on gender \n",
    "2. Frequency of customers based on area \n",
    "3. Frequency of customers based on qualification \n",
    "4. Frequency of customers based on income \n",
    "5. Frequency of customers based on marital status \n",
    "6. Frequency of customers based on vintage \n",
    "7. Frequency of customers based on claim amount \n",
    "8. Frequency of customers based on number of policies \n",
    "9. Frequency of customers based on type of policy \n",
    "10.Frequency of customers based on CLTV\n",
    "\n",
    "Probability features: \n",
    "1. Probability of claim amount given income \n",
    "2. Probability of num_policies given vintage \n",
    "3. Probability of vintage given policy"
   ]
  },
  {
   "cell_type": "code",
   "execution_count": 471,
   "id": "c8d10602",
   "metadata": {},
   "outputs": [
    {
     "data": {
      "text/plain": [
       "['num_policies', 'policy', 'type_of_policy']"
      ]
     },
     "execution_count": 471,
     "metadata": {},
     "output_type": "execute_result"
    }
   ],
   "source": [
    "cat_col = [col for col in df.columns if df[col].dtypes == 'object' if col not in 'income']\n",
    "cat_col"
   ]
  },
  {
   "cell_type": "code",
   "execution_count": 472,
   "id": "34451d8a",
   "metadata": {},
   "outputs": [],
   "source": [
    "for col in cat_col:\n",
    "    le = LabelEncoder()\n",
    "    df.loc[:, col] = le.fit_transform(df[col])"
   ]
  },
  {
   "cell_type": "code",
   "execution_count": 456,
   "id": "91d9668d",
   "metadata": {},
   "outputs": [
    {
     "data": {
      "text/plain": [
       "['id',\n",
       " 'marital_status',\n",
       " 'vintage',\n",
       " 'claim_amount',\n",
       " 'cltv',\n",
       " 'age',\n",
       " 'risk_factor',\n",
       " 'no_of_claims',\n",
       " 'avg_premium_amount',\n",
       " 'claim_amt_to_income_ratio',\n",
       " 'premium_amt_to_income_ratio',\n",
       " 'no_of_policies_to_vintage_ratio',\n",
       " 'no_of_claims_to_vintage_ratio']"
      ]
     },
     "execution_count": 456,
     "metadata": {},
     "output_type": "execute_result"
    }
   ],
   "source": [
    "num_col = [col for col in df.columns if df[col].dtypes in ['int64', 'float64']]\n",
    "num_col"
   ]
  },
  {
   "cell_type": "code",
   "execution_count": 473,
   "id": "cb643591",
   "metadata": {},
   "outputs": [
    {
     "name": "stdout",
     "output_type": "stream",
     "text": [
      "<class 'pandas.core.frame.DataFrame'>\n",
      "RangeIndex: 89392 entries, 0 to 89391\n",
      "Data columns (total 25 columns):\n",
      " #   Column                           Non-Null Count  Dtype  \n",
      "---  ------                           --------------  -----  \n",
      " 0   id                               89392 non-null  int64  \n",
      " 1   gender                           89392 non-null  int32  \n",
      " 2   area                             89392 non-null  int32  \n",
      " 3   qualification                    89392 non-null  int32  \n",
      " 4   marital_status                   89392 non-null  int64  \n",
      " 5   vintage                          89392 non-null  int64  \n",
      " 6   claim_amount                     89392 non-null  int64  \n",
      " 7   num_policies                     89392 non-null  int32  \n",
      " 8   policy                           89392 non-null  int32  \n",
      " 9   type_of_policy                   89392 non-null  int32  \n",
      " 10  cltv                             89392 non-null  int64  \n",
      " 11  age                              89392 non-null  float64\n",
      " 12  family_size                      89392 non-null  int32  \n",
      " 13  spending_power                   89392 non-null  int32  \n",
      " 14  education_level                  89392 non-null  int32  \n",
      " 15  income_int                       89392 non-null  int32  \n",
      " 16  risk_factor                      89392 non-null  float64\n",
      " 17  no_of_claims                     89392 non-null  int64  \n",
      " 18  policy_tenure                    89392 non-null  int32  \n",
      " 19  avg_premium_amount               89392 non-null  float64\n",
      " 20  num_policies_int                 89392 non-null  int32  \n",
      " 21  claim_amt_to_income_ratio        89392 non-null  float64\n",
      " 22  premium_amt_to_income_ratio      89392 non-null  float64\n",
      " 23  no_of_policies_to_vintage_ratio  89392 non-null  float64\n",
      " 24  no_of_claims_to_vintage_ratio    89392 non-null  float64\n",
      "dtypes: float64(7), int32(12), int64(6)\n",
      "memory usage: 13.0 MB\n"
     ]
    }
   ],
   "source": [
    "df.info()"
   ]
  },
  {
   "cell_type": "code",
   "execution_count": 458,
   "id": "b9183b7b",
   "metadata": {},
   "outputs": [
    {
     "data": {
      "text/plain": [
       "array(['Platinum', 'Gold', 'Silver'], dtype=object)"
      ]
     },
     "execution_count": 458,
     "metadata": {},
     "output_type": "execute_result"
    }
   ],
   "source": [
    "df['type_of_policy'].unique()"
   ]
  },
  {
   "cell_type": "code",
   "execution_count": 459,
   "id": "f6f37941",
   "metadata": {},
   "outputs": [
    {
     "data": {
      "text/plain": [
       "'type_of_policy'"
      ]
     },
     "execution_count": 459,
     "metadata": {},
     "output_type": "execute_result"
    }
   ],
   "source": [
    "col "
   ]
  },
  {
   "cell_type": "code",
   "execution_count": null,
   "id": "e8e9f35d",
   "metadata": {},
   "outputs": [],
   "source": [
    "'''df['gender'] = df['gender'].replace({'Male': 1, 'Female': 2})\n",
    "df['area'] = df['area'].replace({'Urban': 1, 'Rural': 2})\n",
    "df['qualification'] = df['qualification'].replace({'Bachelor': 1, 'High School': 2, 'Other': 3})\n",
    "df['num_policies'] = df['num_policies'].replace({'1': 1, 'More than 1': 2})\n",
    "df['policy'] = df['policy'].replace({'A': 1, 'B': 2, 'C': 3})\n",
    "df['type_of_policy'] = df['type_of_policy'].replace({'Silver': 1, 'Gold': 2, 'Platinum': 3})'''"
   ]
  },
  {
   "cell_type": "code",
   "execution_count": 465,
   "id": "a2ea5030",
   "metadata": {},
   "outputs": [],
   "source": [
    "df.drop('income', axis=1, inplace=True)"
   ]
  },
  {
   "cell_type": "code",
   "execution_count": 474,
   "id": "6f0259cc",
   "metadata": {},
   "outputs": [
    {
     "data": {
      "text/html": [
       "<div>\n",
       "<style scoped>\n",
       "    .dataframe tbody tr th:only-of-type {\n",
       "        vertical-align: middle;\n",
       "    }\n",
       "\n",
       "    .dataframe tbody tr th {\n",
       "        vertical-align: top;\n",
       "    }\n",
       "\n",
       "    .dataframe thead th {\n",
       "        text-align: right;\n",
       "    }\n",
       "</style>\n",
       "<table border=\"1\" class=\"dataframe\">\n",
       "  <thead>\n",
       "    <tr style=\"text-align: right;\">\n",
       "      <th></th>\n",
       "      <th>id</th>\n",
       "      <th>gender</th>\n",
       "      <th>area</th>\n",
       "      <th>qualification</th>\n",
       "      <th>marital_status</th>\n",
       "      <th>vintage</th>\n",
       "      <th>claim_amount</th>\n",
       "      <th>num_policies</th>\n",
       "      <th>policy</th>\n",
       "      <th>type_of_policy</th>\n",
       "      <th>cltv</th>\n",
       "      <th>age</th>\n",
       "      <th>family_size</th>\n",
       "      <th>spending_power</th>\n",
       "      <th>education_level</th>\n",
       "      <th>income_int</th>\n",
       "      <th>risk_factor</th>\n",
       "      <th>no_of_claims</th>\n",
       "      <th>policy_tenure</th>\n",
       "      <th>avg_premium_amount</th>\n",
       "      <th>num_policies_int</th>\n",
       "      <th>claim_amt_to_income_ratio</th>\n",
       "      <th>premium_amt_to_income_ratio</th>\n",
       "      <th>no_of_policies_to_vintage_ratio</th>\n",
       "      <th>no_of_claims_to_vintage_ratio</th>\n",
       "    </tr>\n",
       "  </thead>\n",
       "  <tbody>\n",
       "    <tr>\n",
       "      <th>0</th>\n",
       "      <td>1</td>\n",
       "      <td>1</td>\n",
       "      <td>1</td>\n",
       "      <td>0</td>\n",
       "      <td>1</td>\n",
       "      <td>5</td>\n",
       "      <td>5790</td>\n",
       "      <td>1</td>\n",
       "      <td>0</td>\n",
       "      <td>1</td>\n",
       "      <td>64308</td>\n",
       "      <td>0.013689</td>\n",
       "      <td>2</td>\n",
       "      <td>0</td>\n",
       "      <td>2</td>\n",
       "      <td>75000</td>\n",
       "      <td>0.077200</td>\n",
       "      <td>89392</td>\n",
       "      <td>3</td>\n",
       "      <td>2.542901</td>\n",
       "      <td>2</td>\n",
       "      <td>0.077200</td>\n",
       "      <td>0.000040</td>\n",
       "      <td>0.400000</td>\n",
       "      <td>17878.400000</td>\n",
       "    </tr>\n",
       "    <tr>\n",
       "      <th>1</th>\n",
       "      <td>2</td>\n",
       "      <td>1</td>\n",
       "      <td>0</td>\n",
       "      <td>1</td>\n",
       "      <td>0</td>\n",
       "      <td>8</td>\n",
       "      <td>5080</td>\n",
       "      <td>1</td>\n",
       "      <td>0</td>\n",
       "      <td>1</td>\n",
       "      <td>515400</td>\n",
       "      <td>0.021903</td>\n",
       "      <td>1</td>\n",
       "      <td>0</td>\n",
       "      <td>1</td>\n",
       "      <td>75000</td>\n",
       "      <td>0.067733</td>\n",
       "      <td>89392</td>\n",
       "      <td>3</td>\n",
       "      <td>2.542901</td>\n",
       "      <td>2</td>\n",
       "      <td>0.067733</td>\n",
       "      <td>0.000040</td>\n",
       "      <td>0.250000</td>\n",
       "      <td>11174.000000</td>\n",
       "    </tr>\n",
       "    <tr>\n",
       "      <th>2</th>\n",
       "      <td>3</td>\n",
       "      <td>1</td>\n",
       "      <td>1</td>\n",
       "      <td>0</td>\n",
       "      <td>1</td>\n",
       "      <td>8</td>\n",
       "      <td>2599</td>\n",
       "      <td>1</td>\n",
       "      <td>0</td>\n",
       "      <td>1</td>\n",
       "      <td>64212</td>\n",
       "      <td>0.021903</td>\n",
       "      <td>2</td>\n",
       "      <td>0</td>\n",
       "      <td>2</td>\n",
       "      <td>75000</td>\n",
       "      <td>0.034653</td>\n",
       "      <td>89392</td>\n",
       "      <td>3</td>\n",
       "      <td>2.542901</td>\n",
       "      <td>2</td>\n",
       "      <td>0.034653</td>\n",
       "      <td>0.000040</td>\n",
       "      <td>0.250000</td>\n",
       "      <td>11174.000000</td>\n",
       "    </tr>\n",
       "    <tr>\n",
       "      <th>3</th>\n",
       "      <td>4</td>\n",
       "      <td>0</td>\n",
       "      <td>0</td>\n",
       "      <td>1</td>\n",
       "      <td>0</td>\n",
       "      <td>7</td>\n",
       "      <td>0</td>\n",
       "      <td>1</td>\n",
       "      <td>0</td>\n",
       "      <td>1</td>\n",
       "      <td>97920</td>\n",
       "      <td>0.019165</td>\n",
       "      <td>1</td>\n",
       "      <td>0</td>\n",
       "      <td>1</td>\n",
       "      <td>75000</td>\n",
       "      <td>0.000000</td>\n",
       "      <td>89392</td>\n",
       "      <td>3</td>\n",
       "      <td>2.542901</td>\n",
       "      <td>2</td>\n",
       "      <td>0.000000</td>\n",
       "      <td>0.000040</td>\n",
       "      <td>0.285714</td>\n",
       "      <td>12770.285714</td>\n",
       "    </tr>\n",
       "    <tr>\n",
       "      <th>4</th>\n",
       "      <td>5</td>\n",
       "      <td>1</td>\n",
       "      <td>1</td>\n",
       "      <td>1</td>\n",
       "      <td>1</td>\n",
       "      <td>6</td>\n",
       "      <td>3508</td>\n",
       "      <td>1</td>\n",
       "      <td>0</td>\n",
       "      <td>0</td>\n",
       "      <td>59736</td>\n",
       "      <td>0.016427</td>\n",
       "      <td>2</td>\n",
       "      <td>1000000</td>\n",
       "      <td>1</td>\n",
       "      <td>120000</td>\n",
       "      <td>0.029233</td>\n",
       "      <td>89392</td>\n",
       "      <td>3</td>\n",
       "      <td>2.542901</td>\n",
       "      <td>2</td>\n",
       "      <td>0.029233</td>\n",
       "      <td>0.000025</td>\n",
       "      <td>0.333333</td>\n",
       "      <td>14898.666667</td>\n",
       "    </tr>\n",
       "  </tbody>\n",
       "</table>\n",
       "</div>"
      ],
      "text/plain": [
       "   id  gender  area  qualification  marital_status  vintage  claim_amount  \\\n",
       "0   1       1     1              0               1        5          5790   \n",
       "1   2       1     0              1               0        8          5080   \n",
       "2   3       1     1              0               1        8          2599   \n",
       "3   4       0     0              1               0        7             0   \n",
       "4   5       1     1              1               1        6          3508   \n",
       "\n",
       "   num_policies  policy  type_of_policy    cltv       age  family_size  \\\n",
       "0             1       0               1   64308  0.013689            2   \n",
       "1             1       0               1  515400  0.021903            1   \n",
       "2             1       0               1   64212  0.021903            2   \n",
       "3             1       0               1   97920  0.019165            1   \n",
       "4             1       0               0   59736  0.016427            2   \n",
       "\n",
       "   spending_power  education_level  income_int  risk_factor  no_of_claims  \\\n",
       "0               0                2       75000     0.077200         89392   \n",
       "1               0                1       75000     0.067733         89392   \n",
       "2               0                2       75000     0.034653         89392   \n",
       "3               0                1       75000     0.000000         89392   \n",
       "4         1000000                1      120000     0.029233         89392   \n",
       "\n",
       "   policy_tenure  avg_premium_amount  num_policies_int  \\\n",
       "0              3            2.542901                 2   \n",
       "1              3            2.542901                 2   \n",
       "2              3            2.542901                 2   \n",
       "3              3            2.542901                 2   \n",
       "4              3            2.542901                 2   \n",
       "\n",
       "   claim_amt_to_income_ratio  premium_amt_to_income_ratio  \\\n",
       "0                   0.077200                     0.000040   \n",
       "1                   0.067733                     0.000040   \n",
       "2                   0.034653                     0.000040   \n",
       "3                   0.000000                     0.000040   \n",
       "4                   0.029233                     0.000025   \n",
       "\n",
       "   no_of_policies_to_vintage_ratio  no_of_claims_to_vintage_ratio  \n",
       "0                         0.400000                   17878.400000  \n",
       "1                         0.250000                   11174.000000  \n",
       "2                         0.250000                   11174.000000  \n",
       "3                         0.285714                   12770.285714  \n",
       "4                         0.333333                   14898.666667  "
      ]
     },
     "execution_count": 474,
     "metadata": {},
     "output_type": "execute_result"
    }
   ],
   "source": [
    "df.head()"
   ]
  },
  {
   "cell_type": "code",
   "execution_count": 476,
   "id": "24739cf5",
   "metadata": {},
   "outputs": [],
   "source": [
    "import statsmodels.api as sm"
   ]
  },
  {
   "cell_type": "code",
   "execution_count": 482,
   "id": "244d8dc8",
   "metadata": {},
   "outputs": [
    {
     "data": {
      "text/html": [
       "<table class=\"simpletable\">\n",
       "<caption>OLS Regression Results</caption>\n",
       "<tr>\n",
       "  <th>Dep. Variable:</th>          <td>cltv</td>       <th>  R-squared:         </th>  <td>   0.149</td>  \n",
       "</tr>\n",
       "<tr>\n",
       "  <th>Model:</th>                   <td>OLS</td>       <th>  Adj. R-squared:    </th>  <td>   0.149</td>  \n",
       "</tr>\n",
       "<tr>\n",
       "  <th>Method:</th>             <td>Least Squares</td>  <th>  F-statistic:       </th>  <td>   1208.</td>  \n",
       "</tr>\n",
       "<tr>\n",
       "  <th>Date:</th>             <td>Fri, 20 Jan 2023</td> <th>  Prob (F-statistic):</th>   <td>  0.00</td>   \n",
       "</tr>\n",
       "<tr>\n",
       "  <th>Time:</th>                 <td>22:21:00</td>     <th>  Log-Likelihood:    </th> <td>-1.1400e+06</td>\n",
       "</tr>\n",
       "<tr>\n",
       "  <th>No. Observations:</th>      <td> 89392</td>      <th>  AIC:               </th>  <td>2.280e+06</td> \n",
       "</tr>\n",
       "<tr>\n",
       "  <th>Df Residuals:</th>          <td> 89378</td>      <th>  BIC:               </th>  <td>2.280e+06</td> \n",
       "</tr>\n",
       "<tr>\n",
       "  <th>Df Model:</th>              <td>    13</td>      <th>                     </th>      <td> </td>     \n",
       "</tr>\n",
       "<tr>\n",
       "  <th>Covariance Type:</th>      <td>nonrobust</td>    <th>                     </th>      <td> </td>     \n",
       "</tr>\n",
       "</table>\n",
       "<table class=\"simpletable\">\n",
       "<tr>\n",
       "              <td></td>                 <th>coef</th>     <th>std err</th>      <th>t</th>      <th>P>|t|</th>  <th>[0.025</th>    <th>0.975]</th>  \n",
       "</tr>\n",
       "<tr>\n",
       "  <th>id</th>                        <td>   -0.0107</td> <td>    0.011</td> <td>   -0.991</td> <td> 0.322</td> <td>   -0.032</td> <td>    0.010</td>\n",
       "</tr>\n",
       "<tr>\n",
       "  <th>gender</th>                    <td> 2156.8575</td> <td>  568.569</td> <td>    3.793</td> <td> 0.000</td> <td> 1042.469</td> <td> 3271.246</td>\n",
       "</tr>\n",
       "<tr>\n",
       "  <th>area</th>                      <td> 7697.7211</td> <td>  699.416</td> <td>   11.006</td> <td> 0.000</td> <td> 6326.872</td> <td> 9068.571</td>\n",
       "</tr>\n",
       "<tr>\n",
       "  <th>qualification</th>             <td> -793.0393</td> <td>  246.564</td> <td>   -3.216</td> <td> 0.001</td> <td>-1276.302</td> <td> -309.777</td>\n",
       "</tr>\n",
       "<tr>\n",
       "  <th>marital_status</th>            <td>-3355.8551</td> <td>  286.406</td> <td>  -11.717</td> <td> 0.000</td> <td>-3917.209</td> <td>-2794.501</td>\n",
       "</tr>\n",
       "<tr>\n",
       "  <th>vintage</th>                   <td>   51.4552</td> <td>  122.388</td> <td>    0.420</td> <td> 0.674</td> <td> -188.425</td> <td>  291.335</td>\n",
       "</tr>\n",
       "<tr>\n",
       "  <th>claim_amount</th>              <td>    2.9401</td> <td>    0.110</td> <td>   26.847</td> <td> 0.000</td> <td>    2.725</td> <td>    3.155</td>\n",
       "</tr>\n",
       "<tr>\n",
       "  <th>num_policies</th>              <td> 3.237e+04</td> <td>  304.894</td> <td>  106.162</td> <td> 0.000</td> <td> 3.18e+04</td> <td>  3.3e+04</td>\n",
       "</tr>\n",
       "<tr>\n",
       "  <th>policy</th>                    <td>  354.9422</td> <td>  216.846</td> <td>    1.637</td> <td> 0.102</td> <td>  -70.073</td> <td>  779.957</td>\n",
       "</tr>\n",
       "<tr>\n",
       "  <th>type_of_policy</th>            <td>-1772.5029</td> <td>  411.988</td> <td>   -4.302</td> <td> 0.000</td> <td>-2579.995</td> <td> -965.011</td>\n",
       "</tr>\n",
       "<tr>\n",
       "  <th>age</th>                       <td>    0.1409</td> <td>    0.335</td> <td>    0.420</td> <td> 0.674</td> <td>   -0.516</td> <td>    0.798</td>\n",
       "</tr>\n",
       "<tr>\n",
       "  <th>family_size</th>               <td>-3355.8551</td> <td>  286.406</td> <td>  -11.717</td> <td> 0.000</td> <td>-3917.209</td> <td>-2794.501</td>\n",
       "</tr>\n",
       "<tr>\n",
       "  <th>spending_power</th>            <td>   -0.0006</td> <td>    0.001</td> <td>   -0.602</td> <td> 0.547</td> <td>   -0.003</td> <td>    0.001</td>\n",
       "</tr>\n",
       "<tr>\n",
       "  <th>education_level</th>           <td>  793.0393</td> <td>  246.564</td> <td>    3.216</td> <td> 0.001</td> <td>  309.777</td> <td> 1276.302</td>\n",
       "</tr>\n",
       "<tr>\n",
       "  <th>income_int</th>                <td>   -0.0440</td> <td>    0.009</td> <td>   -4.681</td> <td> 0.000</td> <td>   -0.062</td> <td>   -0.026</td>\n",
       "</tr>\n",
       "<tr>\n",
       "  <th>risk_factor</th>               <td>-4437.7262</td> <td> 2310.320</td> <td>   -1.921</td> <td> 0.055</td> <td>-8965.931</td> <td>   90.479</td>\n",
       "</tr>\n",
       "<tr>\n",
       "  <th>no_of_claims</th>              <td>    0.1697</td> <td>    0.018</td> <td>    9.398</td> <td> 0.000</td> <td>    0.134</td> <td>    0.205</td>\n",
       "</tr>\n",
       "<tr>\n",
       "  <th>policy_tenure</th>             <td> -354.9422</td> <td>  216.846</td> <td>   -1.637</td> <td> 0.102</td> <td> -779.957</td> <td>   70.073</td>\n",
       "</tr>\n",
       "<tr>\n",
       "  <th>avg_premium_amount</th>        <td> 4.827e-06</td> <td> 5.14e-07</td> <td>    9.398</td> <td> 0.000</td> <td> 3.82e-06</td> <td> 5.83e-06</td>\n",
       "</tr>\n",
       "<tr>\n",
       "  <th>num_policies_int</th>          <td> 3.237e+04</td> <td>  304.894</td> <td>  106.162</td> <td> 0.000</td> <td> 3.18e+04</td> <td>  3.3e+04</td>\n",
       "</tr>\n",
       "<tr>\n",
       "  <th>claim_amt_to_income_ratio</th> <td>-4437.7262</td> <td> 2310.320</td> <td>   -1.921</td> <td> 0.055</td> <td>-8965.931</td> <td>   90.479</td>\n",
       "</tr>\n",
       "</table>\n",
       "<table class=\"simpletable\">\n",
       "<tr>\n",
       "  <th>Omnibus:</th>       <td>51266.191</td> <th>  Durbin-Watson:     </th>  <td>   1.995</td> \n",
       "</tr>\n",
       "<tr>\n",
       "  <th>Prob(Omnibus):</th>  <td> 0.000</td>   <th>  Jarque-Bera (JB):  </th> <td>404796.964</td>\n",
       "</tr>\n",
       "<tr>\n",
       "  <th>Skew:</th>           <td> 2.737</td>   <th>  Prob(JB):          </th>  <td>    0.00</td> \n",
       "</tr>\n",
       "<tr>\n",
       "  <th>Kurtosis:</th>       <td>11.872</td>   <th>  Cond. No.          </th>  <td>5.04e+23</td> \n",
       "</tr>\n",
       "</table><br/><br/>Notes:<br/>[1] Standard Errors assume that the covariance matrix of the errors is correctly specified.<br/>[2] The smallest eigenvalue is 5.54e-32. This might indicate that there are<br/>strong multicollinearity problems or that the design matrix is singular."
      ],
      "text/plain": [
       "<class 'statsmodels.iolib.summary.Summary'>\n",
       "\"\"\"\n",
       "                            OLS Regression Results                            \n",
       "==============================================================================\n",
       "Dep. Variable:                   cltv   R-squared:                       0.149\n",
       "Model:                            OLS   Adj. R-squared:                  0.149\n",
       "Method:                 Least Squares   F-statistic:                     1208.\n",
       "Date:                Fri, 20 Jan 2023   Prob (F-statistic):               0.00\n",
       "Time:                        22:21:00   Log-Likelihood:            -1.1400e+06\n",
       "No. Observations:               89392   AIC:                         2.280e+06\n",
       "Df Residuals:                   89378   BIC:                         2.280e+06\n",
       "Df Model:                          13                                         \n",
       "Covariance Type:            nonrobust                                         \n",
       "=============================================================================================\n",
       "                                coef    std err          t      P>|t|      [0.025      0.975]\n",
       "---------------------------------------------------------------------------------------------\n",
       "id                           -0.0107      0.011     -0.991      0.322      -0.032       0.010\n",
       "gender                     2156.8575    568.569      3.793      0.000    1042.469    3271.246\n",
       "area                       7697.7211    699.416     11.006      0.000    6326.872    9068.571\n",
       "qualification              -793.0393    246.564     -3.216      0.001   -1276.302    -309.777\n",
       "marital_status            -3355.8551    286.406    -11.717      0.000   -3917.209   -2794.501\n",
       "vintage                      51.4552    122.388      0.420      0.674    -188.425     291.335\n",
       "claim_amount                  2.9401      0.110     26.847      0.000       2.725       3.155\n",
       "num_policies               3.237e+04    304.894    106.162      0.000    3.18e+04     3.3e+04\n",
       "policy                      354.9422    216.846      1.637      0.102     -70.073     779.957\n",
       "type_of_policy            -1772.5029    411.988     -4.302      0.000   -2579.995    -965.011\n",
       "age                           0.1409      0.335      0.420      0.674      -0.516       0.798\n",
       "family_size               -3355.8551    286.406    -11.717      0.000   -3917.209   -2794.501\n",
       "spending_power               -0.0006      0.001     -0.602      0.547      -0.003       0.001\n",
       "education_level             793.0393    246.564      3.216      0.001     309.777    1276.302\n",
       "income_int                   -0.0440      0.009     -4.681      0.000      -0.062      -0.026\n",
       "risk_factor               -4437.7262   2310.320     -1.921      0.055   -8965.931      90.479\n",
       "no_of_claims                  0.1697      0.018      9.398      0.000       0.134       0.205\n",
       "policy_tenure              -354.9422    216.846     -1.637      0.102    -779.957      70.073\n",
       "avg_premium_amount         4.827e-06   5.14e-07      9.398      0.000    3.82e-06    5.83e-06\n",
       "num_policies_int           3.237e+04    304.894    106.162      0.000    3.18e+04     3.3e+04\n",
       "claim_amt_to_income_ratio -4437.7262   2310.320     -1.921      0.055   -8965.931      90.479\n",
       "==============================================================================\n",
       "Omnibus:                    51266.191   Durbin-Watson:                   1.995\n",
       "Prob(Omnibus):                  0.000   Jarque-Bera (JB):           404796.964\n",
       "Skew:                           2.737   Prob(JB):                         0.00\n",
       "Kurtosis:                      11.872   Cond. No.                     5.04e+23\n",
       "==============================================================================\n",
       "\n",
       "Notes:\n",
       "[1] Standard Errors assume that the covariance matrix of the errors is correctly specified.\n",
       "[2] The smallest eigenvalue is 5.54e-32. This might indicate that there are\n",
       "strong multicollinearity problems or that the design matrix is singular.\n",
       "\"\"\""
      ]
     },
     "execution_count": 482,
     "metadata": {},
     "output_type": "execute_result"
    }
   ],
   "source": [
    "X = df.drop(['cltv', 'no_of_policies_to_vintage_ratio', 'no_of_claims_to_vintage_ratio', 'premium_amt_to_income_ratio'], axis=1)\n",
    "y = df['cltv']\n",
    "X_constant = sm.add_constant(X)\n",
    "lin_reg=sm.OLS(y, X_constant).fit()\n",
    "lin_reg.summary()"
   ]
  },
  {
   "cell_type": "code",
   "execution_count": 478,
   "id": "9ee50da8",
   "metadata": {},
   "outputs": [],
   "source": [
    "from statsmodels.stats.outliers_influence import variance_inflation_factor"
   ]
  },
  {
   "cell_type": "code",
   "execution_count": 481,
   "id": "04a0e252",
   "metadata": {},
   "outputs": [
    {
     "data": {
      "text/html": [
       "<div>\n",
       "<style scoped>\n",
       "    .dataframe tbody tr th:only-of-type {\n",
       "        vertical-align: middle;\n",
       "    }\n",
       "\n",
       "    .dataframe tbody tr th {\n",
       "        vertical-align: top;\n",
       "    }\n",
       "\n",
       "    .dataframe thead th {\n",
       "        text-align: right;\n",
       "    }\n",
       "</style>\n",
       "<table border=\"1\" class=\"dataframe\">\n",
       "  <thead>\n",
       "    <tr style=\"text-align: right;\">\n",
       "      <th></th>\n",
       "      <th>vif</th>\n",
       "    </tr>\n",
       "  </thead>\n",
       "  <tbody>\n",
       "    <tr>\n",
       "      <th>id</th>\n",
       "      <td>1.000175</td>\n",
       "    </tr>\n",
       "    <tr>\n",
       "      <th>gender</th>\n",
       "      <td>1.017110</td>\n",
       "    </tr>\n",
       "    <tr>\n",
       "      <th>area</th>\n",
       "      <td>1.318208</td>\n",
       "    </tr>\n",
       "    <tr>\n",
       "      <th>qualification</th>\n",
       "      <td>inf</td>\n",
       "    </tr>\n",
       "    <tr>\n",
       "      <th>marital_status</th>\n",
       "      <td>inf</td>\n",
       "    </tr>\n",
       "    <tr>\n",
       "      <th>vintage</th>\n",
       "      <td>inf</td>\n",
       "    </tr>\n",
       "    <tr>\n",
       "      <th>claim_amount</th>\n",
       "      <td>2.619916</td>\n",
       "    </tr>\n",
       "    <tr>\n",
       "      <th>num_policies</th>\n",
       "      <td>inf</td>\n",
       "    </tr>\n",
       "    <tr>\n",
       "      <th>policy</th>\n",
       "      <td>inf</td>\n",
       "    </tr>\n",
       "    <tr>\n",
       "      <th>type_of_policy</th>\n",
       "      <td>1.010919</td>\n",
       "    </tr>\n",
       "    <tr>\n",
       "      <th>age</th>\n",
       "      <td>inf</td>\n",
       "    </tr>\n",
       "    <tr>\n",
       "      <th>family_size</th>\n",
       "      <td>inf</td>\n",
       "    </tr>\n",
       "    <tr>\n",
       "      <th>spending_power</th>\n",
       "      <td>1.667633</td>\n",
       "    </tr>\n",
       "    <tr>\n",
       "      <th>education_level</th>\n",
       "      <td>inf</td>\n",
       "    </tr>\n",
       "    <tr>\n",
       "      <th>income_int</th>\n",
       "      <td>1.850963</td>\n",
       "    </tr>\n",
       "    <tr>\n",
       "      <th>risk_factor</th>\n",
       "      <td>inf</td>\n",
       "    </tr>\n",
       "    <tr>\n",
       "      <th>no_of_claims</th>\n",
       "      <td>0.000000</td>\n",
       "    </tr>\n",
       "    <tr>\n",
       "      <th>policy_tenure</th>\n",
       "      <td>inf</td>\n",
       "    </tr>\n",
       "    <tr>\n",
       "      <th>avg_premium_amount</th>\n",
       "      <td>0.000000</td>\n",
       "    </tr>\n",
       "    <tr>\n",
       "      <th>num_policies_int</th>\n",
       "      <td>inf</td>\n",
       "    </tr>\n",
       "    <tr>\n",
       "      <th>claim_amt_to_income_ratio</th>\n",
       "      <td>inf</td>\n",
       "    </tr>\n",
       "    <tr>\n",
       "      <th>premium_amt_to_income_ratio</th>\n",
       "      <td>5.263174</td>\n",
       "    </tr>\n",
       "    <tr>\n",
       "      <th>no_of_policies_to_vintage_ratio</th>\n",
       "      <td>13.427988</td>\n",
       "    </tr>\n",
       "    <tr>\n",
       "      <th>no_of_claims_to_vintage_ratio</th>\n",
       "      <td>12.708769</td>\n",
       "    </tr>\n",
       "  </tbody>\n",
       "</table>\n",
       "</div>"
      ],
      "text/plain": [
       "                                       vif\n",
       "id                                1.000175\n",
       "gender                            1.017110\n",
       "area                              1.318208\n",
       "qualification                          inf\n",
       "marital_status                         inf\n",
       "vintage                                inf\n",
       "claim_amount                      2.619916\n",
       "num_policies                           inf\n",
       "policy                                 inf\n",
       "type_of_policy                    1.010919\n",
       "age                                    inf\n",
       "family_size                            inf\n",
       "spending_power                    1.667633\n",
       "education_level                        inf\n",
       "income_int                        1.850963\n",
       "risk_factor                            inf\n",
       "no_of_claims                      0.000000\n",
       "policy_tenure                          inf\n",
       "avg_premium_amount                0.000000\n",
       "num_policies_int                       inf\n",
       "claim_amt_to_income_ratio              inf\n",
       "premium_amt_to_income_ratio       5.263174\n",
       "no_of_policies_to_vintage_ratio  13.427988\n",
       "no_of_claims_to_vintage_ratio    12.708769"
      ]
     },
     "execution_count": 481,
     "metadata": {},
     "output_type": "execute_result"
    }
   ],
   "source": [
    "vif = [variance_inflation_factor(X_constant.values, i) for i in range(X_constant.shape[1])]\n",
    "pd.DataFrame({'vif': vif}, index=X_constant.columns)"
   ]
  },
  {
   "cell_type": "code",
   "execution_count": 485,
   "id": "9d6ccd3e",
   "metadata": {},
   "outputs": [],
   "source": [
    "df.to_csv('updated_frame.csv', index=False)"
   ]
  },
  {
   "cell_type": "markdown",
   "id": "e98ace65",
   "metadata": {},
   "source": [
    "1. Frequency of customers based on gender\n",
    "freq_gender = df['gender'].value_counts()\n",
    "\n",
    "2. Frequency of customers based on area\n",
    "freq_area = df['area'].value_counts()\n",
    "\n",
    "3. Frequency of customers based on qualification\n",
    "freq_qualification = df['qualification'].value_counts()\n",
    "\n",
    "4. Frequency of customers based on income\n",
    "freq_income = df['income'].value_counts()\n",
    "\n",
    "5. Frequency of customers based on marital status\n",
    "freq_marital_status = df['marital_status'].value_counts()\n",
    "\n",
    "6. Frequency of customers based on vintage\n",
    "freq_vintage = df['vintage'].value_counts()\n",
    "\n",
    "7. Frequency of customers based on claim amount\n",
    "freq_claim_amount = df['claim_amount'].value_counts()\n",
    "\n",
    "8. Frequency of customers based on number of policies\n",
    "freq_num_policies = df['num_policies'].value_counts()\n",
    "\n",
    "9. Frequency of customers based on type of policy\n"
   ]
  },
  {
   "cell_type": "markdown",
   "id": "5ae0b8aa",
   "metadata": {},
   "source": [
    "1. Average claim amount per policy\n",
    "2. Average income per policy\n",
    "3. Average vintage per policy\n",
    "4. Average CLTV per policy\n",
    "5. Average number of policies per customer\n",
    "6. Percentage of customers with a particular policy type\n",
    "7. Percentage of customers with a particular marital status\n",
    "8. Percentage of customers with a particular area\n",
    "9. Percentage of customers with a particular qualification\n",
    "10.Average income by gender\n",
    "11.Average vintage by gender\n",
    "12.Average CLTV by gender\n",
    "13.Average claim amount by marital status\n",
    "14.Average income by marital status\n",
    "15.Average vintage by marital status\n",
    "16.Average CLTV by marital status\n",
    "17.Average claim amount by area\n",
    "18.Average income by area\n",
    "19.Average vintage by area\n",
    "20.Average CLTV by area\n",
    "21.Average claim amount by qualification\n",
    "22.Average income by qualification\n",
    "23.Average vintage by qualification\n",
    "24.Average CLTV by qualification"
   ]
  },
  {
   "cell_type": "markdown",
   "id": "fe97c973",
   "metadata": {},
   "source": [
    "1. Ratio of active policies to vintage\n",
    "2. Ratio of claim amount to income\n",
    "3. Average CLTV per policy type\n",
    "4. Ratio of number of policies to vintage\n",
    "5. Ratio of vintage to policy\n",
    "6. Average CLTV per area\n",
    "7. Average CLTV per marital status\n",
    "8. Average CLTV per qualification\n",
    "9. Percentage of customers with a claim amount greater than a particular amount\n",
    "10.Average vintage by gender\n",
    "11.Average income by gender\n",
    "12.Average claim amount by gender\n",
    "13.Average vintage by marital status\n",
    "14.Average income by marital status\n",
    "15.Average claim amount by marital status\n",
    "16.Average vintage by area\n",
    "17.Average income by area\n",
    "18.Average claim amount by area\n",
    "19.Average vintage by qualification\n",
    "20.Average income by qualification\n",
    "21.Average claim amount by qualification\n",
    "22.Number of policies by gender\n",
    "23.Number of policies by marital status\n",
    "24.Number of policies by area\n",
    "25.Number of policies by qualification"
   ]
  },
  {
   "cell_type": "markdown",
   "id": "e39e9b38",
   "metadata": {},
   "source": [
    "1. Average number of policies per customer\n",
    "2. Average income per policy\n",
    "3. Average claim amount per policy\n",
    "4. Ratio of claim amount to income\n",
    "5. Ratio of num_policies to vintage\n",
    "6. Ratio of vintage to policy\n",
    "7. Average vintage by gender\n",
    "8. Average income by gender\n",
    "9. Average claim amount by gender\n",
    "10.Average vintage by marital status\n",
    "11.Average income by marital status\n",
    "12.Average claim amount by marital status\n",
    "13.Average vintage by area\n",
    "14.Average income by area\n",
    "15.Average claim amount by area\n",
    "16.Average vintage by qualification\n",
    "17.Average income by qualification\n",
    "18.Average claim amount by qualification\n",
    "19.Percentage of customers with a particular policy type\n",
    "20.Percentage of customers with a particular marital status\n",
    "21.Percentage of customers with a particular area\n",
    "22.Percentage of customers with a particular qualification\n",
    "23.Percentage of customers with a claim amount greater than a particular amount\n",
    "24.Ratio of active policies to vintage\n",
    "25.Average CLTV per policy type\n",
    "26.Average CLTV per area\n",
    "27.Average CLTV per marital status\n",
    "28.Average CLTV per qualification"
   ]
  },
  {
   "cell_type": "code",
   "execution_count": null,
   "id": "48bfb27c",
   "metadata": {},
   "outputs": [],
   "source": [
    "df['freq_gender'] = df['gender'].value_counts()\n",
    "df['freq_area'] = df['area'].value_counts()\n",
    "df['freq_qualification'] = df['qualification'].value_counts()\n",
    "df['freq_income'] = df['income'].value_counts()\n",
    "df['freq_marital_status'] = df['marital_status'].value_counts()\n",
    "df['freq_vintage'] = df['vintage'].value_counts()\n",
    "df['freq_claim_amount'] = df['claim_amount'].value_counts()\n",
    "df['freq_num_policies'] = df['num_policies'].value_counts()"
   ]
  },
  {
   "cell_type": "code",
   "execution_count": 1,
   "id": "a481e9a0",
   "metadata": {},
   "outputs": [
    {
     "ename": "NameError",
     "evalue": "name 'df' is not defined",
     "output_type": "error",
     "traceback": [
      "\u001b[1;31m---------------------------------------------------------------------------\u001b[0m",
      "\u001b[1;31mNameError\u001b[0m                                 Traceback (most recent call last)",
      "Input \u001b[1;32mIn [1]\u001b[0m, in \u001b[0;36m<cell line: 1>\u001b[1;34m()\u001b[0m\n\u001b[1;32m----> 1\u001b[0m \u001b[43mdf\u001b[49m[df[\u001b[38;5;124m'\u001b[39m\u001b[38;5;124mpolicy\u001b[39m\u001b[38;5;124m'\u001b[39m] \u001b[38;5;241m==\u001b[39m \u001b[38;5;124m'\u001b[39m\u001b[38;5;124mparticular_policy_type\u001b[39m\u001b[38;5;124m'\u001b[39m]\u001b[38;5;241m.\u001b[39mshape[\u001b[38;5;241m0\u001b[39m] \u001b[38;5;241m/\u001b[39m df\u001b[38;5;241m.\u001b[39mshape[\u001b[38;5;241m0\u001b[39m]\n\u001b[0;32m      2\u001b[0m df[df[\u001b[38;5;124m'\u001b[39m\u001b[38;5;124mmarital_status\u001b[39m\u001b[38;5;124m'\u001b[39m] \u001b[38;5;241m==\u001b[39m \u001b[38;5;124m'\u001b[39m\u001b[38;5;124mparticular_marital_status\u001b[39m\u001b[38;5;124m'\u001b[39m]\u001b[38;5;241m.\u001b[39mshape[\u001b[38;5;241m0\u001b[39m] \u001b[38;5;241m/\u001b[39m df\u001b[38;5;241m.\u001b[39mshape[\u001b[38;5;241m0\u001b[39m]\n\u001b[0;32m      3\u001b[0m df[df[\u001b[38;5;124m'\u001b[39m\u001b[38;5;124marea\u001b[39m\u001b[38;5;124m'\u001b[39m] \u001b[38;5;241m==\u001b[39m \u001b[38;5;124m'\u001b[39m\u001b[38;5;124mparticular_area\u001b[39m\u001b[38;5;124m'\u001b[39m]\u001b[38;5;241m.\u001b[39mshape[\u001b[38;5;241m0\u001b[39m] \u001b[38;5;241m/\u001b[39m df\u001b[38;5;241m.\u001b[39mshape[\u001b[38;5;241m0\u001b[39m]\n",
      "\u001b[1;31mNameError\u001b[0m: name 'df' is not defined"
     ]
    }
   ],
   "source": [
    "df['average_amount_claim_per_policy'] = df[df['policy'] == 'particular_policy_type'].shape[0] / df.shape[0]\n",
    "df[df['marital_status'] == 'particular_marital_status'].shape[0] / df.shape[0]\n",
    "df[df['area'] == 'particular_area'].shape[0] / df.shape[0]\n",
    "df[df['qualification'] == 'particular_qualification'].shape[0] / df.shape[0]\n",
    "df.groupby('gender').income.mean()\n",
    "df.groupby('gender').vintage.mean()\n",
    "df.groupby('gender').CLTV.mean()\n",
    "df.groupby('marital_status').claim_amount.mean()\n",
    "df.groupby('marital_status').income.mean()\n",
    "df.groupby('marital_status').vintage.mean()\n",
    "df.groupby('marital_status').CLTV.mean()\n",
    "df.groupby('area').claim_amount.mean()\n",
    "df.groupby('area').income.mean()\n",
    "df.groupby('area').vintage.mean()\n",
    "df.groupby('area').CLTV.mean()\n",
    "df.groupby('qualification').claim_amount.mean()\n",
    "df.groupby('qualification').income.mean()\n",
    "df.groupby('qualification').vintage.mean()\n",
    "df.groupby('qualification').CLTV.mean()\n",
    "df[df['policy_status'] == 'Active'].shape[0] / df.shape[0]\n",
    "df['claim_amount'].sum() / df['income'].sum()\n",
    "df.groupby('type_of_policy').CLTV.mean()\n",
    "df['num_policies'].sum() / df['vintage'].sum()\n",
    "df['vintage'].sum() / df['policy'].shape[0]\n",
    "df.groupby('area').CLTV.mean()\n",
    "df.groupby('marital_status').CLTV.mean()\n",
    "df.groupby('qualification').CLTV.mean()\n",
    "df[df['claim_amount'] > particular_amount].shape[0] / df.shape[0]\n",
    "df.groupby('gender').num_policies.sum()\n",
    "df.groupby('marital_status').num_policies.sum()\n",
    "df.groupby('area').num_policies.sum()\n",
    "df.groupby('qualification').num_policies.sum()"
   ]
  },
  {
   "cell_type": "code",
   "execution_count": null,
   "id": "8aac7b57",
   "metadata": {},
   "outputs": [],
   "source": [
    "df[df['policy_status'] == 'Active'].shape[0] / df.shape[0]\n",
    "df['claim_amount'].sum() / df['income'].sum()\n",
    "df.groupby('type_of_policy').CLTV.mean()\n",
    "df['num_policies'].sum() / df['vintage'].sum()\n",
    "df['vintage'].sum() / df['policy'].shape[0]\n",
    "df.groupby('area').CLTV.mean()\n",
    "df.groupby('marital_status').CLTV.mean()\n",
    "df.groupby('qualification').CLTV.mean()\n",
    "df[df['claim_amount'] > particular_amount].shape[0] / df.shape[0]\n",
    "df.groupby('gender').vintage.mean()\n",
    "df.groupby('gender').income.mean()\n",
    "df.groupby('gender').claim_amount.mean()\n",
    "df.groupby('marital_status').vintage.mean()\n",
    "df.groupby('marital_status').income.mean()\n",
    "df.groupby('marital_status').claim_amount.mean()\n",
    "df.groupby('area').vintage.mean()\n",
    "df.groupby('area').income.mean()\n",
    "df.groupby('area').claim_amount.mean()\n",
    "df.groupby('qualification').vintage.mean()\n",
    "df.groupby('qualification').income.mean()\n",
    "df.groupby('qualification').claim_amount.mean()\n",
    "df.groupby('gender').num_policies.sum()\n",
    "df.groupby('marital_status').num_policies.sum()\n",
    "df.groupby('area').num_policies.sum()\n",
    "df.groupby('qualification').num_policies.sum()"
   ]
  },
  {
   "cell_type": "code",
   "execution_count": null,
   "id": "1f90b135",
   "metadata": {},
   "outputs": [],
   "source": [
    "df['num_policies'].mean()\n",
    "df['income'].mean() / df['policy'].shape[0]\n",
    "df['claim_amount'].mean() / df['policy'].shape[0]\n",
    "df['claim_amount'].sum() / df['income'].sum()\n",
    "df['num_policies'].sum() / df['vintage'].sum()\n",
    "df['vintage'].sum() / df['policy'].shape[0]\n",
    "df.groupby('gender').vintage.mean()\n",
    "df.groupby('gender').income.mean()\n",
    "df.groupby('gender').claim_amount.mean()\n",
    "df.groupby('marital_status').vintage.mean()\n",
    "df.groupby('marital_status').income.mean()\n",
    "df.groupby('marital_status').claim_amount.mean()\n",
    "df.groupby('area').vintage.mean()\n",
    "df.groupby('area').income.mean()\n",
    "df.groupby('area').claim_amount.mean()\n",
    "df.groupby('qualification').vintage.mean()\n",
    "df.groupby('qualification').income.mean()\n",
    "df.groupby('qualification').claim_amount.mean()\n",
    "df[df['type_of_policy'] == particular_policy_type].shape[0] / df.shape[0]\n",
    "df[df['marital_status'] == particular_marital_status].shape[0] / df.shape[0]\n",
    "df[df['area'] == particular_area].shape[0] / df.shape[0]\n",
    "df[df['qualification'] == particular_qualification].shape[0] / df.shape[0]\n",
    "df[df['claim_amount'] > particular_amount].shape[\n",
    "df[df['claim_amount'] > particular_amount].shape[0] / df.shape[0]\n",
    "df[df['policy_status'] == 'Active'].shape[0] / df.shape[0]\n",
    "df.groupby('type_of_policy').CLTV.mean()\n",
    "df.groupby('area').CLTV.mean()\n",
    "df.groupby('marital_status').CLTV.mean()\n",
    "df.groupby('qualification').CLTV.mean()"
   ]
  },
  {
   "cell_type": "code",
   "execution_count": 486,
   "id": "c2f3ffb9",
   "metadata": {},
   "outputs": [
    {
     "data": {
      "text/html": [
       "<div>\n",
       "<style scoped>\n",
       "    .dataframe tbody tr th:only-of-type {\n",
       "        vertical-align: middle;\n",
       "    }\n",
       "\n",
       "    .dataframe tbody tr th {\n",
       "        vertical-align: top;\n",
       "    }\n",
       "\n",
       "    .dataframe thead th {\n",
       "        text-align: right;\n",
       "    }\n",
       "</style>\n",
       "<table border=\"1\" class=\"dataframe\">\n",
       "  <thead>\n",
       "    <tr style=\"text-align: right;\">\n",
       "      <th></th>\n",
       "      <th>id</th>\n",
       "      <th>gender</th>\n",
       "      <th>area</th>\n",
       "      <th>qualification</th>\n",
       "      <th>income</th>\n",
       "      <th>marital_status</th>\n",
       "      <th>vintage</th>\n",
       "      <th>claim_amount</th>\n",
       "      <th>num_policies</th>\n",
       "      <th>policy</th>\n",
       "      <th>type_of_policy</th>\n",
       "    </tr>\n",
       "  </thead>\n",
       "  <tbody>\n",
       "    <tr>\n",
       "      <th>0</th>\n",
       "      <td>89393</td>\n",
       "      <td>Female</td>\n",
       "      <td>Rural</td>\n",
       "      <td>High School</td>\n",
       "      <td>5L-10L</td>\n",
       "      <td>0</td>\n",
       "      <td>6</td>\n",
       "      <td>2134</td>\n",
       "      <td>More than 1</td>\n",
       "      <td>B</td>\n",
       "      <td>Silver</td>\n",
       "    </tr>\n",
       "    <tr>\n",
       "      <th>1</th>\n",
       "      <td>89394</td>\n",
       "      <td>Female</td>\n",
       "      <td>Urban</td>\n",
       "      <td>High School</td>\n",
       "      <td>2L-5L</td>\n",
       "      <td>0</td>\n",
       "      <td>4</td>\n",
       "      <td>4102</td>\n",
       "      <td>More than 1</td>\n",
       "      <td>A</td>\n",
       "      <td>Platinum</td>\n",
       "    </tr>\n",
       "    <tr>\n",
       "      <th>2</th>\n",
       "      <td>89395</td>\n",
       "      <td>Male</td>\n",
       "      <td>Rural</td>\n",
       "      <td>High School</td>\n",
       "      <td>5L-10L</td>\n",
       "      <td>1</td>\n",
       "      <td>7</td>\n",
       "      <td>2925</td>\n",
       "      <td>More than 1</td>\n",
       "      <td>B</td>\n",
       "      <td>Gold</td>\n",
       "    </tr>\n",
       "    <tr>\n",
       "      <th>3</th>\n",
       "      <td>89396</td>\n",
       "      <td>Female</td>\n",
       "      <td>Rural</td>\n",
       "      <td>Bachelor</td>\n",
       "      <td>More than 10L</td>\n",
       "      <td>1</td>\n",
       "      <td>2</td>\n",
       "      <td>0</td>\n",
       "      <td>More than 1</td>\n",
       "      <td>B</td>\n",
       "      <td>Silver</td>\n",
       "    </tr>\n",
       "    <tr>\n",
       "      <th>4</th>\n",
       "      <td>89397</td>\n",
       "      <td>Female</td>\n",
       "      <td>Urban</td>\n",
       "      <td>High School</td>\n",
       "      <td>2L-5L</td>\n",
       "      <td>0</td>\n",
       "      <td>5</td>\n",
       "      <td>14059</td>\n",
       "      <td>More than 1</td>\n",
       "      <td>B</td>\n",
       "      <td>Silver</td>\n",
       "    </tr>\n",
       "  </tbody>\n",
       "</table>\n",
       "</div>"
      ],
      "text/plain": [
       "      id  gender   area qualification         income  marital_status  vintage  \\\n",
       "0  89393  Female  Rural   High School         5L-10L               0        6   \n",
       "1  89394  Female  Urban   High School          2L-5L               0        4   \n",
       "2  89395    Male  Rural   High School         5L-10L               1        7   \n",
       "3  89396  Female  Rural      Bachelor  More than 10L               1        2   \n",
       "4  89397  Female  Urban   High School          2L-5L               0        5   \n",
       "\n",
       "   claim_amount num_policies policy type_of_policy  \n",
       "0          2134  More than 1      B         Silver  \n",
       "1          4102  More than 1      A       Platinum  \n",
       "2          2925  More than 1      B           Gold  \n",
       "3             0  More than 1      B         Silver  \n",
       "4         14059  More than 1      B         Silver  "
      ]
     },
     "execution_count": 486,
     "metadata": {},
     "output_type": "execute_result"
    }
   ],
   "source": [
    "test = pd.read_csv('test_koRSKBP.csv')\n",
    "test.head()"
   ]
  },
  {
   "cell_type": "code",
   "execution_count": 489,
   "id": "ddc11432",
   "metadata": {},
   "outputs": [
    {
     "data": {
      "text/html": [
       "<div>\n",
       "<style scoped>\n",
       "    .dataframe tbody tr th:only-of-type {\n",
       "        vertical-align: middle;\n",
       "    }\n",
       "\n",
       "    .dataframe tbody tr th {\n",
       "        vertical-align: top;\n",
       "    }\n",
       "\n",
       "    .dataframe thead th {\n",
       "        text-align: right;\n",
       "    }\n",
       "</style>\n",
       "<table border=\"1\" class=\"dataframe\">\n",
       "  <thead>\n",
       "    <tr style=\"text-align: right;\">\n",
       "      <th></th>\n",
       "      <th>id</th>\n",
       "      <th>gender</th>\n",
       "      <th>area</th>\n",
       "      <th>qualification</th>\n",
       "      <th>income</th>\n",
       "      <th>marital_status</th>\n",
       "      <th>vintage</th>\n",
       "      <th>claim_amount</th>\n",
       "      <th>num_policies</th>\n",
       "      <th>policy</th>\n",
       "      <th>type_of_policy</th>\n",
       "    </tr>\n",
       "  </thead>\n",
       "  <tbody>\n",
       "    <tr>\n",
       "      <th>0</th>\n",
       "      <td>89393</td>\n",
       "      <td>0</td>\n",
       "      <td>0</td>\n",
       "      <td>1</td>\n",
       "      <td>1</td>\n",
       "      <td>0</td>\n",
       "      <td>6</td>\n",
       "      <td>2134</td>\n",
       "      <td>1</td>\n",
       "      <td>1</td>\n",
       "      <td>2</td>\n",
       "    </tr>\n",
       "    <tr>\n",
       "      <th>1</th>\n",
       "      <td>89394</td>\n",
       "      <td>0</td>\n",
       "      <td>1</td>\n",
       "      <td>1</td>\n",
       "      <td>0</td>\n",
       "      <td>0</td>\n",
       "      <td>4</td>\n",
       "      <td>4102</td>\n",
       "      <td>1</td>\n",
       "      <td>0</td>\n",
       "      <td>1</td>\n",
       "    </tr>\n",
       "    <tr>\n",
       "      <th>2</th>\n",
       "      <td>89395</td>\n",
       "      <td>1</td>\n",
       "      <td>0</td>\n",
       "      <td>1</td>\n",
       "      <td>1</td>\n",
       "      <td>1</td>\n",
       "      <td>7</td>\n",
       "      <td>2925</td>\n",
       "      <td>1</td>\n",
       "      <td>1</td>\n",
       "      <td>0</td>\n",
       "    </tr>\n",
       "    <tr>\n",
       "      <th>3</th>\n",
       "      <td>89396</td>\n",
       "      <td>0</td>\n",
       "      <td>0</td>\n",
       "      <td>0</td>\n",
       "      <td>3</td>\n",
       "      <td>1</td>\n",
       "      <td>2</td>\n",
       "      <td>0</td>\n",
       "      <td>1</td>\n",
       "      <td>1</td>\n",
       "      <td>2</td>\n",
       "    </tr>\n",
       "    <tr>\n",
       "      <th>4</th>\n",
       "      <td>89397</td>\n",
       "      <td>0</td>\n",
       "      <td>1</td>\n",
       "      <td>1</td>\n",
       "      <td>0</td>\n",
       "      <td>0</td>\n",
       "      <td>5</td>\n",
       "      <td>14059</td>\n",
       "      <td>1</td>\n",
       "      <td>1</td>\n",
       "      <td>2</td>\n",
       "    </tr>\n",
       "  </tbody>\n",
       "</table>\n",
       "</div>"
      ],
      "text/plain": [
       "      id  gender  area  qualification  income  marital_status  vintage  \\\n",
       "0  89393       0     0              1       1               0        6   \n",
       "1  89394       0     1              1       0               0        4   \n",
       "2  89395       1     0              1       1               1        7   \n",
       "3  89396       0     0              0       3               1        2   \n",
       "4  89397       0     1              1       0               0        5   \n",
       "\n",
       "   claim_amount  num_policies  policy  type_of_policy  \n",
       "0          2134             1       1               2  \n",
       "1          4102             1       0               1  \n",
       "2          2925             1       1               0  \n",
       "3             0             1       1               2  \n",
       "4         14059             1       1               2  "
      ]
     },
     "execution_count": 489,
     "metadata": {},
     "output_type": "execute_result"
    }
   ],
   "source": [
    "test.head()"
   ]
  },
  {
   "cell_type": "code",
   "execution_count": 487,
   "id": "17f58c7a",
   "metadata": {},
   "outputs": [
    {
     "data": {
      "text/html": [
       "<div>\n",
       "<style scoped>\n",
       "    .dataframe tbody tr th:only-of-type {\n",
       "        vertical-align: middle;\n",
       "    }\n",
       "\n",
       "    .dataframe tbody tr th {\n",
       "        vertical-align: top;\n",
       "    }\n",
       "\n",
       "    .dataframe thead th {\n",
       "        text-align: right;\n",
       "    }\n",
       "</style>\n",
       "<table border=\"1\" class=\"dataframe\">\n",
       "  <thead>\n",
       "    <tr style=\"text-align: right;\">\n",
       "      <th></th>\n",
       "      <th>gender</th>\n",
       "      <th>area</th>\n",
       "      <th>qualification</th>\n",
       "      <th>income</th>\n",
       "      <th>num_policies</th>\n",
       "      <th>policy</th>\n",
       "      <th>type_of_policy</th>\n",
       "    </tr>\n",
       "  </thead>\n",
       "  <tbody>\n",
       "    <tr>\n",
       "      <th>0</th>\n",
       "      <td>Female</td>\n",
       "      <td>Rural</td>\n",
       "      <td>High School</td>\n",
       "      <td>5L-10L</td>\n",
       "      <td>More than 1</td>\n",
       "      <td>B</td>\n",
       "      <td>Silver</td>\n",
       "    </tr>\n",
       "    <tr>\n",
       "      <th>1</th>\n",
       "      <td>Female</td>\n",
       "      <td>Urban</td>\n",
       "      <td>High School</td>\n",
       "      <td>2L-5L</td>\n",
       "      <td>More than 1</td>\n",
       "      <td>A</td>\n",
       "      <td>Platinum</td>\n",
       "    </tr>\n",
       "    <tr>\n",
       "      <th>2</th>\n",
       "      <td>Male</td>\n",
       "      <td>Rural</td>\n",
       "      <td>High School</td>\n",
       "      <td>5L-10L</td>\n",
       "      <td>More than 1</td>\n",
       "      <td>B</td>\n",
       "      <td>Gold</td>\n",
       "    </tr>\n",
       "    <tr>\n",
       "      <th>3</th>\n",
       "      <td>Female</td>\n",
       "      <td>Rural</td>\n",
       "      <td>Bachelor</td>\n",
       "      <td>More than 10L</td>\n",
       "      <td>More than 1</td>\n",
       "      <td>B</td>\n",
       "      <td>Silver</td>\n",
       "    </tr>\n",
       "    <tr>\n",
       "      <th>4</th>\n",
       "      <td>Female</td>\n",
       "      <td>Urban</td>\n",
       "      <td>High School</td>\n",
       "      <td>2L-5L</td>\n",
       "      <td>More than 1</td>\n",
       "      <td>B</td>\n",
       "      <td>Silver</td>\n",
       "    </tr>\n",
       "    <tr>\n",
       "      <th>...</th>\n",
       "      <td>...</td>\n",
       "      <td>...</td>\n",
       "      <td>...</td>\n",
       "      <td>...</td>\n",
       "      <td>...</td>\n",
       "      <td>...</td>\n",
       "      <td>...</td>\n",
       "    </tr>\n",
       "    <tr>\n",
       "      <th>59590</th>\n",
       "      <td>Male</td>\n",
       "      <td>Rural</td>\n",
       "      <td>Bachelor</td>\n",
       "      <td>5L-10L</td>\n",
       "      <td>1</td>\n",
       "      <td>A</td>\n",
       "      <td>Silver</td>\n",
       "    </tr>\n",
       "    <tr>\n",
       "      <th>59591</th>\n",
       "      <td>Male</td>\n",
       "      <td>Urban</td>\n",
       "      <td>High School</td>\n",
       "      <td>5L-10L</td>\n",
       "      <td>1</td>\n",
       "      <td>C</td>\n",
       "      <td>Gold</td>\n",
       "    </tr>\n",
       "    <tr>\n",
       "      <th>59592</th>\n",
       "      <td>Female</td>\n",
       "      <td>Urban</td>\n",
       "      <td>High School</td>\n",
       "      <td>2L-5L</td>\n",
       "      <td>More than 1</td>\n",
       "      <td>B</td>\n",
       "      <td>Platinum</td>\n",
       "    </tr>\n",
       "    <tr>\n",
       "      <th>59593</th>\n",
       "      <td>Male</td>\n",
       "      <td>Rural</td>\n",
       "      <td>Bachelor</td>\n",
       "      <td>5L-10L</td>\n",
       "      <td>More than 1</td>\n",
       "      <td>A</td>\n",
       "      <td>Silver</td>\n",
       "    </tr>\n",
       "    <tr>\n",
       "      <th>59594</th>\n",
       "      <td>Female</td>\n",
       "      <td>Urban</td>\n",
       "      <td>Bachelor</td>\n",
       "      <td>5L-10L</td>\n",
       "      <td>More than 1</td>\n",
       "      <td>B</td>\n",
       "      <td>Platinum</td>\n",
       "    </tr>\n",
       "  </tbody>\n",
       "</table>\n",
       "<p>59595 rows × 7 columns</p>\n",
       "</div>"
      ],
      "text/plain": [
       "       gender   area qualification         income num_policies policy  \\\n",
       "0      Female  Rural   High School         5L-10L  More than 1      B   \n",
       "1      Female  Urban   High School          2L-5L  More than 1      A   \n",
       "2        Male  Rural   High School         5L-10L  More than 1      B   \n",
       "3      Female  Rural      Bachelor  More than 10L  More than 1      B   \n",
       "4      Female  Urban   High School          2L-5L  More than 1      B   \n",
       "...       ...    ...           ...            ...          ...    ...   \n",
       "59590    Male  Rural      Bachelor         5L-10L            1      A   \n",
       "59591    Male  Urban   High School         5L-10L            1      C   \n",
       "59592  Female  Urban   High School          2L-5L  More than 1      B   \n",
       "59593    Male  Rural      Bachelor         5L-10L  More than 1      A   \n",
       "59594  Female  Urban      Bachelor         5L-10L  More than 1      B   \n",
       "\n",
       "      type_of_policy  \n",
       "0             Silver  \n",
       "1           Platinum  \n",
       "2               Gold  \n",
       "3             Silver  \n",
       "4             Silver  \n",
       "...              ...  \n",
       "59590         Silver  \n",
       "59591           Gold  \n",
       "59592       Platinum  \n",
       "59593         Silver  \n",
       "59594       Platinum  \n",
       "\n",
       "[59595 rows x 7 columns]"
      ]
     },
     "execution_count": 487,
     "metadata": {},
     "output_type": "execute_result"
    }
   ],
   "source": [
    "cat_cols = [col for col in test.columns if test[col].dtypes == 'object']\n",
    "test[cat_cols]"
   ]
  },
  {
   "cell_type": "code",
   "execution_count": 488,
   "id": "d54c7216",
   "metadata": {},
   "outputs": [],
   "source": [
    "for col in cat_cols:\n",
    "    le = LabelEncoder()\n",
    "    test.loc[:, col] = le.fit_transform(test[col])"
   ]
  },
  {
   "cell_type": "code",
   "execution_count": 490,
   "id": "8b25a5d1",
   "metadata": {},
   "outputs": [],
   "source": [
    "test.to_csv('updated_test_frame.csv', index=False)"
   ]
  },
  {
   "cell_type": "code",
   "execution_count": null,
   "id": "9588fc3e",
   "metadata": {},
   "outputs": [],
   "source": []
  },
  {
   "cell_type": "code",
   "execution_count": null,
   "id": "c46a0519",
   "metadata": {},
   "outputs": [],
   "source": []
  },
  {
   "cell_type": "code",
   "execution_count": null,
   "id": "d4798f8f",
   "metadata": {},
   "outputs": [],
   "source": []
  },
  {
   "cell_type": "code",
   "execution_count": null,
   "id": "227ff8bb",
   "metadata": {},
   "outputs": [],
   "source": []
  },
  {
   "cell_type": "code",
   "execution_count": null,
   "id": "118c5e37",
   "metadata": {},
   "outputs": [],
   "source": []
  },
  {
   "cell_type": "code",
   "execution_count": null,
   "id": "9b89350b",
   "metadata": {},
   "outputs": [],
   "source": []
  }
 ],
 "metadata": {
  "kernelspec": {
   "display_name": "Python 3 (ipykernel)",
   "language": "python",
   "name": "python3"
  },
  "language_info": {
   "codemirror_mode": {
    "name": "ipython",
    "version": 3
   },
   "file_extension": ".py",
   "mimetype": "text/x-python",
   "name": "python",
   "nbconvert_exporter": "python",
   "pygments_lexer": "ipython3",
   "version": "3.10.5"
  }
 },
 "nbformat": 4,
 "nbformat_minor": 5
}
